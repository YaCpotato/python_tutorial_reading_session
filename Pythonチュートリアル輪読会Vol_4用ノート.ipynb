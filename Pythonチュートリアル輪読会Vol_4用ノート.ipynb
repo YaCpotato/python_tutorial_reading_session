{
  "nbformat": 4,
  "nbformat_minor": 0,
  "metadata": {
    "colab": {
      "name": "Pythonチュートリアル輪読会Vol_4用ノート.ipynb",
      "provenance": [],
      "collapsed_sections": [],
      "authorship_tag": "ABX9TyNrJJ5fe3c2dyXpXAngJlLC",
      "include_colab_link": true
    },
    "kernelspec": {
      "name": "python3",
      "display_name": "Python 3"
    }
  },
  "cells": [
    {
      "cell_type": "markdown",
      "metadata": {
        "id": "view-in-github",
        "colab_type": "text"
      },
      "source": [
        "<a href=\"https://colab.research.google.com/github/YaCpotato/python_tutorial_reading_session/blob/master/Python%E3%83%81%E3%83%A5%E3%83%BC%E3%83%88%E3%83%AA%E3%82%A2%E3%83%AB%E8%BC%AA%E8%AA%AD%E4%BC%9AVol_4%E7%94%A8%E3%83%8E%E3%83%BC%E3%83%88.ipynb\" target=\"_parent\"><img src=\"https://colab.research.google.com/assets/colab-badge.svg\" alt=\"Open In Colab\"/></a>"
      ]
    },
    {
      "cell_type": "markdown",
      "metadata": {
        "id": "F6xCovSpiCi_",
        "colab_type": "text"
      },
      "source": [
        ""
      ]
    },
    {
      "cell_type": "code",
      "metadata": {
        "id": "R1kSUOdNeMIv",
        "colab_type": "code",
        "outputId": "531671c0-8207-4776-8bf1-bb79b4eb4c02",
        "colab": {
          "base_uri": "https://localhost:8080/",
          "height": 34
        }
      },
      "source": [
        "%%writefile fibo.py\n",
        "# Fibonacci numbers module\n",
        "\n",
        "def fib(n):    # write Fibonacci series up to n\n",
        "    a, b = 0, 1\n",
        "    while b < n:\n",
        "        print(b, end=' ')\n",
        "        a, b = b, a+b\n",
        "    print()\n",
        "\n",
        "def fib2(n):   # return Fibonacci series up to n\n",
        "    result = []\n",
        "    a, b = 0, 1\n",
        "    while b < n:\n",
        "        result.append(b)\n",
        "        a, b = b, a+b\n",
        "    return result"
      ],
      "execution_count": 0,
      "outputs": [
        {
          "output_type": "stream",
          "text": [
            "Overwriting fibo.py\n"
          ],
          "name": "stdout"
        }
      ]
    },
    {
      "cell_type": "code",
      "metadata": {
        "id": "el19CMKKinso",
        "colab_type": "code",
        "colab": {}
      },
      "source": [
        "import fibo"
      ],
      "execution_count": 0,
      "outputs": []
    },
    {
      "cell_type": "code",
      "metadata": {
        "id": "iMBebNxRir-e",
        "colab_type": "code",
        "outputId": "1c3c83f7-dadd-4fc0-cef0-7b88ee667e96",
        "colab": {
          "base_uri": "https://localhost:8080/",
          "height": 34
        }
      },
      "source": [
        "fibo.fib(1000)"
      ],
      "execution_count": 0,
      "outputs": [
        {
          "output_type": "stream",
          "text": [
            "1 1 2 3 5 8 13 21 34 55 89 144 233 377 610 987 \n"
          ],
          "name": "stdout"
        }
      ]
    },
    {
      "cell_type": "code",
      "metadata": {
        "id": "K5zIpmJmiv0k",
        "colab_type": "code",
        "outputId": "65f3139b-4440-4b46-f6eb-95a44fa7ffbb",
        "colab": {
          "base_uri": "https://localhost:8080/",
          "height": 34
        }
      },
      "source": [
        "fibo.fib2(100)"
      ],
      "execution_count": 0,
      "outputs": [
        {
          "output_type": "execute_result",
          "data": {
            "text/plain": [
              "[1, 1, 2, 3, 5, 8, 13, 21, 34, 55, 89]"
            ]
          },
          "metadata": {
            "tags": []
          },
          "execution_count": 30
        }
      ]
    },
    {
      "cell_type": "code",
      "metadata": {
        "id": "H1CGIusViz1o",
        "colab_type": "code",
        "outputId": "3d7f2d57-21e4-436b-f796-a68f382fb84d",
        "colab": {
          "base_uri": "https://localhost:8080/",
          "height": 34
        }
      },
      "source": [
        "fibo.__name__"
      ],
      "execution_count": 0,
      "outputs": [
        {
          "output_type": "execute_result",
          "data": {
            "text/plain": [
              "'fibo'"
            ]
          },
          "metadata": {
            "tags": []
          },
          "execution_count": 31
        }
      ]
    },
    {
      "cell_type": "markdown",
      "metadata": {
        "id": "3gj73hFGjZp3",
        "colab_type": "text"
      },
      "source": [
        "度々使うのなら、ローカルな名前に代入できます"
      ]
    },
    {
      "cell_type": "code",
      "metadata": {
        "id": "Q04QTvlbi1iT",
        "colab_type": "code",
        "outputId": "9f9870b0-2b3b-403b-8509-e792af7a8499",
        "colab": {
          "base_uri": "https://localhost:8080/",
          "height": 34
        }
      },
      "source": [
        "fib = fibo.fib\n",
        "fib(500)"
      ],
      "execution_count": 0,
      "outputs": [
        {
          "output_type": "stream",
          "text": [
            "1 1 2 3 5 8 13 21 34 55 89 144 233 377 \n"
          ],
          "name": "stdout"
        }
      ]
    },
    {
      "cell_type": "code",
      "metadata": {
        "id": "VVFyMdnCjJb6",
        "colab_type": "code",
        "outputId": "cc3f2386-b171-4421-9f64-8c7992524e66",
        "colab": {
          "base_uri": "https://localhost:8080/",
          "height": 34
        }
      },
      "source": [
        "from fibo import fib, fib2\n",
        "fib(500)"
      ],
      "execution_count": 0,
      "outputs": [
        {
          "output_type": "stream",
          "text": [
            "1 1 2 3 5 8 13 21 34 55 89 144 233 377 \n"
          ],
          "name": "stdout"
        }
      ]
    },
    {
      "cell_type": "code",
      "metadata": {
        "id": "j1wMLp5plGrO",
        "colab_type": "code",
        "outputId": "32ccc7c9-1c19-414c-81c1-dffdf1867ad4",
        "colab": {
          "base_uri": "https://localhost:8080/",
          "height": 34
        }
      },
      "source": [
        "from fibo import *\n",
        "fib(500)"
      ],
      "execution_count": 0,
      "outputs": [
        {
          "output_type": "stream",
          "text": [
            "1 1 2 3 5 8 13 21 34 55 89 144 233 377 \n"
          ],
          "name": "stdout"
        }
      ]
    },
    {
      "cell_type": "markdown",
      "metadata": {
        "id": "lRasah1nlUkN",
        "colab_type": "text"
      },
      "source": [
        "作成中のモジュールを作り直した時は\n",
        "\n",
        "```\n",
        "モジュール.reload()\n",
        "```"
      ]
    },
    {
      "cell_type": "markdown",
      "metadata": {
        "id": "v3GSJq2KqC2M",
        "colab_type": "text"
      },
      "source": [
        "まず以下のhello.pyを作る\n",
        "```\n",
        "def hello(times):\n",
        "    for i in range(times):\n",
        "        print('hello')\n",
        "\n",
        "    return\n",
        "```\n",
        "\n",
        "```\n",
        ">>> import hello\n",
        ">>> hello.hello(7)\n",
        "hello\n",
        "hello\n",
        "hello\n",
        "hello\n",
        "hello\n",
        "hello\n",
        "hello\n",
        "```\n",
        "ここで別ターミナルにてdef helloの繰り返し回数を元の二乗に変更し保存\n",
        "\n",
        "```\n",
        "def hello(times):\n",
        "    for i in range(times**2):\n",
        "        print('hello')\n",
        "\n",
        "    return\n",
        "```\n",
        "\n",
        "先ほどの7回helloを繰り返したインタプリタは終わらせてはいけない。続いて以下を入力する\n",
        "```\n",
        ">>> import importlib\n",
        ">>> importlib.reload(hello)\n",
        "<module 'hello' from '/Users/shoichi/python/stackoverflow-archive/hello.py'>\n",
        ">>> hello.hello(7)\n",
        "hello\n",
        "hello\n",
        "hello\n",
        "hello\n",
        "hello\n",
        "hello\n",
        "hello\n",
        "hello\n",
        "hello\n",
        "hello\n",
        "hello\n",
        "hello\n",
        "hello\n",
        "hello\n",
        "hello\n",
        "hello\n",
        "hello\n",
        "hello\n",
        "hello\n",
        "hello\n",
        "hello\n",
        "hello\n",
        "hello\n",
        "hello\n",
        "hello\n",
        "hello\n",
        "hello\n",
        "hello\n",
        "hello\n",
        "hello\n",
        "hello\n",
        "hello\n",
        "hello\n",
        "hello\n",
        "hello\n",
        "hello\n",
        "hello\n",
        "hello\n",
        "hello\n",
        "hello\n",
        "hello\n",
        "hello\n",
        "hello\n",
        "hello\n",
        "hello\n",
        "hello\n",
        "hello\n",
        "hello\n",
        "hello\n",
        "```"
      ]
    },
    {
      "cell_type": "markdown",
      "metadata": {
        "id": "D66tWZzxv4D8",
        "colab_type": "text"
      },
      "source": [
        "### 6.1.2 モジュール検索パス\n",
        "\n",
        "spam という名前のモジュールをインポートするとき、インタープリターはまずその名前のビルトインモジュールを探します。見つからなかった場合は、 spam.py という名前のファイルを sys.path にあるディレクトリのリストから探します。 sys.path は以下の場所に初期化されます:\n",
        "\n",
        "- 入力されたスクリプトのあるディレクトリ (あるいはファイルが指定されなかったときはカレントディレクトリ)。\n",
        "- PYTHONPATH (ディレクトリ名のリスト。シェル変数の PATH と同じ構文)。\n",
        "- インストールごとのデフォルト。\n",
        "\n",
        "\n",
        ">ビルトインモジュール・・・Pythonに標準で定義されているモジュール,組み込み関数sum,モジュールsys,csvなど\n",
        "\n",
        "---\n",
        "\n",
        "**つまりPythonがモジュールを探しに行く順序は、**\n",
        "1. ビルトインモジュール\n",
        "2. 同階層にあるファイル群(sys.pathに入っている)\n",
        "3. PYTHONPATHで定義されているディレクトリのファイル群\n",
        "\n",
        "である的な感じ\n"
      ]
    },
    {
      "cell_type": "markdown",
      "metadata": {
        "id": "_Fh47a3NbmzZ",
        "colab_type": "text"
      },
      "source": [
        "#### >>>はいじれる！\n",
        "\n",
        "```python\n",
        "sys.ps1 = '(´·ω ·`) > '\n",
        "```"
      ]
    },
    {
      "cell_type": "markdown",
      "metadata": {
        "id": "7VFTCd2Nb8B3",
        "colab_type": "text"
      },
      "source": [
        "### 6.2 標準モジュール\n",
        "sysとかcsvのこと。これらは\n",
        "\n",
        "```python\n",
        "import sys\n",
        "```\n",
        "などだけで使用可能になるが、これらの標準モジュールの格納場所はsys.pathで確認できる"
      ]
    },
    {
      "cell_type": "code",
      "metadata": {
        "id": "zD-IP5Ygv6-8",
        "colab_type": "code",
        "colab": {
          "base_uri": "https://localhost:8080/",
          "height": 170
        },
        "outputId": "8f579d47-892d-428c-c04d-d473fb31f85f"
      },
      "source": [
        "import sys\n",
        "sys.path"
      ],
      "execution_count": 1,
      "outputs": [
        {
          "output_type": "execute_result",
          "data": {
            "text/plain": [
              "['',\n",
              " '/env/python',\n",
              " '/usr/lib/python36.zip',\n",
              " '/usr/lib/python3.6',\n",
              " '/usr/lib/python3.6/lib-dynload',\n",
              " '/usr/local/lib/python3.6/dist-packages',\n",
              " '/usr/lib/python3/dist-packages',\n",
              " '/usr/local/lib/python3.6/dist-packages/IPython/extensions',\n",
              " '/root/.ipython']"
            ]
          },
          "metadata": {
            "tags": []
          },
          "execution_count": 1
        }
      ]
    },
    {
      "cell_type": "markdown",
      "metadata": {
        "id": "P2gxSvEKcW4Y",
        "colab_type": "text"
      },
      "source": [
        "自分専用のモジュール作って標準モジュールみたいに取り込むときはどうしたらいいか\n",
        "\n",
        "1. 自分専用モジュールを格納する場所を作る\n",
        "```\n",
        "$mkdir mypylib\n",
        "```\n",
        "\n",
        "2. モジュールファイルを作る\n",
        "```\n",
        "/mypylib/ $ vim me.py\n",
        "```\n",
        "\n",
        "3. とりあえずなんか書く\n",
        "```python\n",
        "def my_name():\n",
        "  return 'Joseph Gilgun'\n",
        "```\n",
        "\n",
        "4. sys.pathにいれる\n",
        "```python\n",
        "import sys\n",
        "sys.path.append('mypylib/')\n",
        "```\n",
        "\n",
        "5. importして使ってみる\n",
        "```python\n",
        "import mypylib\n",
        "name = mypylib.me.my_name() # mypylibディレクトリの中のmeというモジュールもmy_name()メソッド\n",
        "print(name)\n",
        "```\n",
        "\n",
        "6. 完成\n"
      ]
    },
    {
      "cell_type": "markdown",
      "metadata": {
        "id": "b3Lqm6tifL91",
        "colab_type": "text"
      },
      "source": [
        "### dir()関数\n",
        "組込み関数 dir() は、あるモジュールがどんな名前を定義しているか調べるために使われます。 dir() はソートされた文字列のリストを返します:\n",
        "\n",
        "ビルトインモジュールの中身でも見てみますか"
      ]
    },
    {
      "cell_type": "code",
      "metadata": {
        "id": "1T3TsYjRcQ11",
        "colab_type": "code",
        "colab": {}
      },
      "source": [
        "import builtins\n",
        "dir(builtins)\n"
      ],
      "execution_count": 0,
      "outputs": []
    },
    {
      "cell_type": "markdown",
      "metadata": {
        "id": "B1Qk2JoAfqEN",
        "colab_type": "text"
      },
      "source": [
        "### パッケージ\n",
        "**パッケージ (package) は、Python のモジュール名前空間を 「ドット付きモジュール名」 を使って構造化する手段**です。例えば、モジュール名 A.B は、 A というパッケージのサブモジュール B を表します。ちょうど、モジュールを利用すると、別々のモジュールの著者が互いのグローバル変数名について心配しなくても済むようになるのと同じように、**ドット付きモジュール名を利用すると、 NumPy や Python Imaging Library のように複数モジュールからなるパッケージの著者が、互いのモジュール名について心配しなくても済むようになります**。\n",
        "\n",
        "**（例としてはOpenCVとmatplotlibは両方imshow()メソッドがありますよね）**\n",
        "matplotlib.pyplot.imshow()  \n",
        "opencv.imshow()\n",
        "\n",
        "音声ファイルや音声データを一様に扱うためのモジュールのコレクション (「パッケージ」) を設計したいと仮定しましょう。 音声ファイルには多くの異なった形式がある (通常は拡張子、 例えば .wav, .aiff, .au などで認識されます) ので、増え続ける様々なファイル形式を相互変換するモジュールを、 作成したりメンテナンスしたりする必要があるかもしれません。 また、 音声データに対して実行したい様々な独自の操作 (ミキシング、 エコーの追加、 イコライザ関数の適用、 人工的なステレオ効果の作成など) があるかもしれません。 そうなると、 こうした操作を実行するモジュールを果てしなく書くことになるでしょう。 以下に (階層的なファイルシステムで表現した) パッケージの構造案を示します:\n",
        "\n",
        "```\n",
        "sound/                          Top-level package\n",
        "      __init__.py               Initialize the sound package\n",
        "      formats/                  Subpackage for file format conversions\n",
        "              __init__.py\n",
        "              wavread.py\n",
        "              wavwrite.py\n",
        "              aiffread.py\n",
        "              aiffwrite.py\n",
        "              auread.py\n",
        "              auwrite.py\n",
        "              ...\n",
        "      effects/                  Subpackage for sound effects\n",
        "              __init__.py\n",
        "              echo.py\n",
        "              surround.py\n",
        "              reverse.py\n",
        "              ...\n",
        "      filters/                  Subpackage for filters\n",
        "              __init__.py\n",
        "              equalizer.py\n",
        "              vocoder.py\n",
        "              karaoke.py\n",
        "              ...\n",
        "```\n",
        "\n",
        "これで、\n",
        "\n",
        "```\n",
        "from sound.effects import echo\n",
        "```\n",
        "ができる。  \n",
        "\n",
        "\n",
        "**インポートするモジュールの中に__init__pyがあれば、その下のディレクトリに対して、 . (ドット)で繋げることで、モジュールとしてアクセスが届くようになる**\n"
      ]
    },
    {
      "cell_type": "markdown",
      "metadata": {
        "id": "LcArZvHzhycf",
        "colab_type": "text"
      },
      "source": [
        "### パッケージ内参照\n",
        "パッケージが (前述の例の sound パッケージのように) サブパッケージの集まりに構造化されている場合、絶対 import を使って兄弟関係にあるパッケージを参照できます。例えば、モジュール sound.filters.vocoder で sound.effects パッケージの echo モジュールを使いたいとすると、 from sound.effects import echo を使うことができます。\n",
        "\n",
        "また、明示的な相対importを from module import name の形式の import 文で利用できます。この明示的な相対 import では、先頭のドットで現在および親パッケージを指定します。 surround モジュールの例では、以下のように記述できます:\n",
        "\n",
        "```python\n",
        "from . import echo\n",
        "from .. import formats\n",
        "from ..filters import equalizer\n",
        "```\n",
        "\n",
        "よくライブラリの中身でみる書き方なのでは？  \n",
        "Djangoとかでもありますよね\n",
        "\n",
        "**モジュール自分自身が__init__.pyを含んでいてパッケージ化されているなら、自分のモジュールと同階層にあるモジュールには . (ドット) でたどり着ける**\n"
      ]
    },
    {
      "cell_type": "markdown",
      "metadata": {
        "id": "l7brBdr-ipxG",
        "colab_type": "text"
      },
      "source": [
        "### 複数ディレクトリ中のパッケージ\n",
        "\n",
        "パッケージはもう一つ特別な属性として __path__ をサポートしています。この属性は、パッケージの __init__.py 中のコードが実行されるよりも前に、 __init__.py の収められているディレクトリ名の入ったリストになるよう初期化されます。この変数は変更することができます。変更を加えると、以降そのパッケージに入っているモジュールやサブパッケージの検索に影響します。\n",
        "\n",
        "この機能はほとんど必要にはならないのですが、パッケージ内存在するモジュール群を拡張するために使うことができます。\n",
        "\n",
        "**パッケージとなったmoduleのdir()には\\__path__があるってこと。これがあるかないかでパッケージかどうかpythonは判断していて、. (ドット)でアクセスできるか決まる**"
      ]
    }
  ]
}