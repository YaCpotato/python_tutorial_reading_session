{
  "nbformat": 4,
  "nbformat_minor": 0,
  "metadata": {
    "colab": {
      "name": "Pythonチュートリアル輪読会Vol_4用ノート.ipynb",
      "provenance": [],
      "authorship_tag": "ABX9TyNipiYBFvURltqDHZcUVFL7",
      "include_colab_link": true
    },
    "kernelspec": {
      "name": "python3",
      "display_name": "Python 3"
    }
  },
  "cells": [
    {
      "cell_type": "markdown",
      "metadata": {
        "id": "view-in-github",
        "colab_type": "text"
      },
      "source": [
        "<a href=\"https://colab.research.google.com/github/YaCpotato/python_tutorial_reading_session/blob/master/Python%E3%83%81%E3%83%A5%E3%83%BC%E3%83%88%E3%83%AA%E3%82%A2%E3%83%AB%E8%BC%AA%E8%AA%AD%E4%BC%9AVol_4%E7%94%A8%E3%83%8E%E3%83%BC%E3%83%88.ipynb\" target=\"_parent\"><img src=\"https://colab.research.google.com/assets/colab-badge.svg\" alt=\"Open In Colab\"/></a>"
      ]
    },
    {
      "cell_type": "markdown",
      "metadata": {
        "id": "F6xCovSpiCi_",
        "colab_type": "text"
      },
      "source": [
        ""
      ]
    },
    {
      "cell_type": "code",
      "metadata": {
        "id": "R1kSUOdNeMIv",
        "colab_type": "code",
        "colab": {
          "base_uri": "https://localhost:8080/",
          "height": 34
        },
        "outputId": "531671c0-8207-4776-8bf1-bb79b4eb4c02"
      },
      "source": [
        "%%writefile fibo.py\n",
        "# Fibonacci numbers module\n",
        "\n",
        "def fib(n):    # write Fibonacci series up to n\n",
        "    a, b = 0, 1\n",
        "    while b < n:\n",
        "        print(b, end=' ')\n",
        "        a, b = b, a+b\n",
        "    print()\n",
        "\n",
        "def fib2(n):   # return Fibonacci series up to n\n",
        "    result = []\n",
        "    a, b = 0, 1\n",
        "    while b < n:\n",
        "        result.append(b)\n",
        "        a, b = b, a+b\n",
        "    return result"
      ],
      "execution_count": 27,
      "outputs": [
        {
          "output_type": "stream",
          "text": [
            "Overwriting fibo.py\n"
          ],
          "name": "stdout"
        }
      ]
    },
    {
      "cell_type": "code",
      "metadata": {
        "id": "el19CMKKinso",
        "colab_type": "code",
        "colab": {}
      },
      "source": [
        "import fibo"
      ],
      "execution_count": 0,
      "outputs": []
    },
    {
      "cell_type": "code",
      "metadata": {
        "id": "iMBebNxRir-e",
        "colab_type": "code",
        "colab": {
          "base_uri": "https://localhost:8080/",
          "height": 34
        },
        "outputId": "1c3c83f7-dadd-4fc0-cef0-7b88ee667e96"
      },
      "source": [
        "fibo.fib(1000)"
      ],
      "execution_count": 29,
      "outputs": [
        {
          "output_type": "stream",
          "text": [
            "1 1 2 3 5 8 13 21 34 55 89 144 233 377 610 987 \n"
          ],
          "name": "stdout"
        }
      ]
    },
    {
      "cell_type": "code",
      "metadata": {
        "id": "K5zIpmJmiv0k",
        "colab_type": "code",
        "colab": {
          "base_uri": "https://localhost:8080/",
          "height": 34
        },
        "outputId": "65f3139b-4440-4b46-f6eb-95a44fa7ffbb"
      },
      "source": [
        "fibo.fib2(100)"
      ],
      "execution_count": 30,
      "outputs": [
        {
          "output_type": "execute_result",
          "data": {
            "text/plain": [
              "[1, 1, 2, 3, 5, 8, 13, 21, 34, 55, 89]"
            ]
          },
          "metadata": {
            "tags": []
          },
          "execution_count": 30
        }
      ]
    },
    {
      "cell_type": "code",
      "metadata": {
        "id": "H1CGIusViz1o",
        "colab_type": "code",
        "colab": {
          "base_uri": "https://localhost:8080/",
          "height": 34
        },
        "outputId": "3d7f2d57-21e4-436b-f796-a68f382fb84d"
      },
      "source": [
        "fibo.__name__"
      ],
      "execution_count": 31,
      "outputs": [
        {
          "output_type": "execute_result",
          "data": {
            "text/plain": [
              "'fibo'"
            ]
          },
          "metadata": {
            "tags": []
          },
          "execution_count": 31
        }
      ]
    },
    {
      "cell_type": "markdown",
      "metadata": {
        "id": "3gj73hFGjZp3",
        "colab_type": "text"
      },
      "source": [
        "度々使うのなら、ローカルな名前に代入できます"
      ]
    },
    {
      "cell_type": "code",
      "metadata": {
        "id": "Q04QTvlbi1iT",
        "colab_type": "code",
        "colab": {
          "base_uri": "https://localhost:8080/",
          "height": 34
        },
        "outputId": "9f9870b0-2b3b-403b-8509-e792af7a8499"
      },
      "source": [
        "fib = fibo.fib\n",
        "fib(500)"
      ],
      "execution_count": 32,
      "outputs": [
        {
          "output_type": "stream",
          "text": [
            "1 1 2 3 5 8 13 21 34 55 89 144 233 377 \n"
          ],
          "name": "stdout"
        }
      ]
    },
    {
      "cell_type": "code",
      "metadata": {
        "id": "VVFyMdnCjJb6",
        "colab_type": "code",
        "colab": {
          "base_uri": "https://localhost:8080/",
          "height": 34
        },
        "outputId": "cc3f2386-b171-4421-9f64-8c7992524e66"
      },
      "source": [
        "from fibo import fib, fib2\n",
        "fib(500)"
      ],
      "execution_count": 33,
      "outputs": [
        {
          "output_type": "stream",
          "text": [
            "1 1 2 3 5 8 13 21 34 55 89 144 233 377 \n"
          ],
          "name": "stdout"
        }
      ]
    },
    {
      "cell_type": "code",
      "metadata": {
        "id": "j1wMLp5plGrO",
        "colab_type": "code",
        "colab": {
          "base_uri": "https://localhost:8080/",
          "height": 34
        },
        "outputId": "32ccc7c9-1c19-414c-81c1-dffdf1867ad4"
      },
      "source": [
        "from fibo import *\n",
        "fib(500)"
      ],
      "execution_count": 34,
      "outputs": [
        {
          "output_type": "stream",
          "text": [
            "1 1 2 3 5 8 13 21 34 55 89 144 233 377 \n"
          ],
          "name": "stdout"
        }
      ]
    },
    {
      "cell_type": "markdown",
      "metadata": {
        "id": "lRasah1nlUkN",
        "colab_type": "text"
      },
      "source": [
        "作成中のモジュールを作り直した時は\n",
        "\n",
        "```\n",
        "モジュール.reload()\n",
        "```"
      ]
    },
    {
      "cell_type": "markdown",
      "metadata": {
        "id": "v3GSJq2KqC2M",
        "colab_type": "text"
      },
      "source": [
        "まず以下のhello.pyを作る\n",
        "```\n",
        "def hello(times):\n",
        "    for i in range(times):\n",
        "        print('hello')\n",
        "\n",
        "    return\n",
        "```\n",
        "\n",
        "```\n",
        ">>> import hello\n",
        ">>> hello.hello(7)\n",
        "hello\n",
        "hello\n",
        "hello\n",
        "hello\n",
        "hello\n",
        "hello\n",
        "hello\n",
        "```\n",
        "ここで別ターミナルにてdef helloの繰り返し回数を元の二乗に変更し保存\n",
        "\n",
        "```\n",
        "def hello(times):\n",
        "    for i in range(times**2):\n",
        "        print('hello')\n",
        "\n",
        "    return\n",
        "```\n",
        "\n",
        "先ほどの7回helloを繰り返したインタプリタは終わらせてはいけない。続いて以下を入力する\n",
        "```\n",
        ">>> import importlib\n",
        ">>> importlib.reload(hello)\n",
        "<module 'hello' from '/Users/shoichi/python/stackoverflow-archive/hello.py'>\n",
        ">>> hello.hello(7)\n",
        "hello\n",
        "hello\n",
        "hello\n",
        "hello\n",
        "hello\n",
        "hello\n",
        "hello\n",
        "hello\n",
        "hello\n",
        "hello\n",
        "hello\n",
        "hello\n",
        "hello\n",
        "hello\n",
        "hello\n",
        "hello\n",
        "hello\n",
        "hello\n",
        "hello\n",
        "hello\n",
        "hello\n",
        "hello\n",
        "hello\n",
        "hello\n",
        "hello\n",
        "hello\n",
        "hello\n",
        "hello\n",
        "hello\n",
        "hello\n",
        "hello\n",
        "hello\n",
        "hello\n",
        "hello\n",
        "hello\n",
        "hello\n",
        "hello\n",
        "hello\n",
        "hello\n",
        "hello\n",
        "hello\n",
        "hello\n",
        "hello\n",
        "hello\n",
        "hello\n",
        "hello\n",
        "hello\n",
        "hello\n",
        "hello\n",
        "```"
      ]
    },
    {
      "cell_type": "markdown",
      "metadata": {
        "id": "D66tWZzxv4D8",
        "colab_type": "text"
      },
      "source": [
        "### 6.1.2 モジュール検索パス\n",
        "\n",
        "spam という名前のモジュールをインポートするとき、インタープリターはまずその名前のビルトインモジュールを探します。見つからなかった場合は、 spam.py という名前のファイルを sys.path にあるディレクトリのリストから探します。 sys.path は以下の場所に初期化されます:\n",
        "\n",
        "- 入力されたスクリプトのあるディレクトリ (あるいはファイルが指定されなかったときはカレントディレクトリ)。\n",
        "- PYTHONPATH (ディレクトリ名のリスト。シェル変数の PATH と同じ構文)。\n",
        "- インストールごとのデフォルト。\n",
        "\n",
        "\n",
        ">ビルトインモジュール・・・Pythonに標準で定義されているモジュール,組み込み関数sum,モジュールsys,csvなど\n",
        "\n",
        "---\n",
        "\n",
        "**つまりPythonがモジュールを探しに行く順序は、**\n",
        "1. ビルトインモジュール\n",
        "2. 同階層にあるファイル群(sys.pathに入っている)\n",
        "3. PYTHONPATHで定義されているディレクトリのファイル群\n",
        "\n",
        "である的な感じ\n"
      ]
    },
    {
      "cell_type": "code",
      "metadata": {
        "id": "zD-IP5Ygv6-8",
        "colab_type": "code",
        "colab": {}
      },
      "source": [
        ""
      ],
      "execution_count": 0,
      "outputs": []
    }
  ]
}