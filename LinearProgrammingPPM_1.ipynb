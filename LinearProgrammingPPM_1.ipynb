{
  "nbformat": 4,
  "nbformat_minor": 0,
  "metadata": {
    "colab": {
      "name": "LinearProgrammingPPM-1.ipynb",
      "provenance": [],
      "collapsed_sections": [],
      "authorship_tag": "ABX9TyPHReXQbB7HjKMPDMavxgA2",
      "include_colab_link": true
    },
    "kernelspec": {
      "name": "python3",
      "display_name": "Python 3"
    }
  },
  "cells": [
    {
      "cell_type": "markdown",
      "metadata": {
        "id": "view-in-github",
        "colab_type": "text"
      },
      "source": [
        "<a href=\"https://colab.research.google.com/github/YaCpotato/python_tutorial_reading_session/blob/master/LinearProgrammingPPM_1.ipynb\" target=\"_parent\"><img src=\"https://colab.research.google.com/assets/colab-badge.svg\" alt=\"Open In Colab\"/></a>"
      ]
    },
    {
      "cell_type": "markdown",
      "metadata": {
        "id": "kENOYnN-7LoH",
        "colab_type": "text"
      },
      "source": [
        " # 数理計画法"
      ]
    },
    {
      "cell_type": "markdown",
      "metadata": {
        "id": "VQOHHhKr7RlW",
        "colab_type": "text"
      },
      "source": [
        "## **1. 線形計画法**"
      ]
    },
    {
      "cell_type": "markdown",
      "metadata": {
        "id": "jC7ZlJX57Ww0",
        "colab_type": "text"
      },
      "source": [
        "## **1.1 生産計画問題**"
      ]
    },
    {
      "cell_type": "markdown",
      "metadata": {
        "id": "dXJfTTab7aXh",
        "colab_type": "text"
      },
      "source": [
        "製品１、２を限られた資源で、最大限利益がでるように生産計画を立てる問題  \n",
        "以下に、製品ごとの必要な３種類の原料の使用料と利益。それぞれの原料には使用制限がある\n",
        "\n",
        "---\n",
        "\n",
        "||原料１（トン）|原料２（トン）|原料３（トン）|利益（万円）|\n",
        "|:--:|:--:|:--:|:--:|:--:|\n",
        "|製品１|1|4|3|5|\n",
        "|製品2|2|4|1|4|\n",
        "|使用可能量|80|180|90||"
      ]
    },
    {
      "cell_type": "markdown",
      "metadata": {
        "id": "I15ZhUee89Et",
        "colab_type": "text"
      },
      "source": [
        "### **1.1.1 目的関数の定義**\n",
        "製品１の数を$x_1$、製品２の数を$x_2$とすると、最大化すべき利益（目的関数）は\n",
        "\n",
        "$$5x_1 + 4x_2...①$$\n",
        "\n",
        "とおける"
      ]
    },
    {
      "cell_type": "markdown",
      "metadata": {
        "id": "_lc2iRrw-KrM",
        "colab_type": "text"
      },
      "source": [
        "### **1.1.2 制約式の追加**\n",
        "原料1の使用料は、製品1、2でそれぞれ1トン、2トンごとである。それぞれの個数を掛けて足した数は80以下でなければならないので\n",
        "$$x_1 + 2x_2 \\leq 80 ...②$$\n",
        "\n",
        "原料2の使用料は、製品1、2でそれぞれ4トンである。それぞれの個数を掛けて足した数は180以下でなければならないので\n",
        "$$4x_1 + 4x_2 \\leq 180 ...③$$\n",
        "\n",
        "原料3の使用料は、製品1、2でそれぞれ3トン、1トンである。それぞれの個数を掛けて足した数は90以下でなければならないので\n",
        "$$3x_1 + x_2 \\leq 90 ...④$$\n",
        "\n",
        "製品の生産数というのは、負の数を取らないので、グラフ上の第一象限に位置していなければならないので\n",
        "$$x_1 \\geqq 0, x_2 \\geqq 0...⑤ $$"
      ]
    },
    {
      "cell_type": "markdown",
      "metadata": {
        "id": "7tzidcHrE7ei",
        "colab_type": "text"
      },
      "source": [
        "- 第一象限：$x_1 > 0, x_2 > 0$\n",
        "- 第二象限：$x_1 > 0, x_2 < 0$\n",
        "- 第三象限：$x_1 < 0, x_2 < 0$\n",
        "- 第四象限：$x_1 < 0, x_2 > 0$\n",
        "\n",
        "↓第一象限は以下のエリアのこと"
      ]
    },
    {
      "cell_type": "code",
      "metadata": {
        "id": "QOiXblHo7LLL",
        "colab_type": "code",
        "colab": {
          "base_uri": "https://localhost:8080/",
          "height": 51
        },
        "outputId": "16d0441c-52b0-41b1-ddcc-8b8ef9b64b0b"
      },
      "source": [
        "import matplotlib.pyplot as plt\n",
        "import seaborn as sns\n",
        "plt.style.use('fivethirtyeight')"
      ],
      "execution_count": 53,
      "outputs": [
        {
          "output_type": "stream",
          "text": [
            "/usr/local/lib/python3.6/dist-packages/statsmodels/tools/_testing.py:19: FutureWarning: pandas.util.testing is deprecated. Use the functions in the public API at pandas.testing instead.\n",
            "  import pandas.util.testing as tm\n"
          ],
          "name": "stderr"
        }
      ]
    },
    {
      "cell_type": "code",
      "metadata": {
        "id": "fj5VQov-BjY8",
        "colab_type": "code",
        "colab": {
          "base_uri": "https://localhost:8080/",
          "height": 287
        },
        "outputId": "a6b0a190-f06f-4a54-ed91-c4fa9fdc5e56"
      },
      "source": [
        "graph = plt.subplot()\n",
        "x = range(-10,10)\n",
        "y = range(-10,10)\n",
        "zero = [0] * 20\n",
        "graph.plot(zero, y, color=\"black\")\n",
        "graph.plot(x, zero, color=\"black\")\n",
        "\n",
        "graph.set_xlim([-6,6])\n",
        "graph.set_ylim([-6,6])\n",
        "graph.set_aspect('equal')\n",
        "graph.axvspan(0, 6, 0.5, color = \"coral\")\n",
        "plt.show()"
      ],
      "execution_count": 54,
      "outputs": [
        {
          "output_type": "display_data",
          "data": {
            "image/png": "[encoded data removed]",
            "text/plain": [
              "<Figure size 432x288 with 1 Axes>"
            ]
          },
          "metadata": {
            "tags": []
          }
        }
      ]
    },
    {
      "cell_type": "markdown",
      "metadata": {
        "id": "jA4uesoEGVlZ",
        "colab_type": "text"
      },
      "source": [
        "式①〜⑤を線形計画法的に書くと\n",
        "\n",
        "$$\n",
        "max. 5x_1 + 4x_2　\\\\\n",
        "s.t. \\quad x_1 + 2x_2 \\leq 80 \\\\\n",
        "\\quad \\quad 4x_1 + 4x_2 \\leq 180 \\\\\n",
        "\\quad \\quad 3x_1 + x_2 \\leq 90 \\\\\n",
        "\\quad \\quad x_1 \\geqq 0, x_2 \\geqq 0 \\\\\n",
        "$$\n",
        "\n",
        "---\n",
        "\n",
        "となる"
      ]
    },
    {
      "cell_type": "markdown",
      "metadata": {
        "id": "H8NftlDXLVsl",
        "colab_type": "text"
      },
      "source": [
        "### **1.1.3 グラフ化により最大の値の交点を成す直線に目星をつける**"
      ]
    },
    {
      "cell_type": "markdown",
      "metadata": {
        "id": "8PHy2rxkJ-XM",
        "colab_type": "text"
      },
      "source": [
        "グラフによる視覚化で、最大となる交点を成す2直線が$s.t.$(subject to)の中にある。直線といえど交点までは見抜けないので、おとなしくグラフ化しよう。 \n",
        "ここでは高校数学Ⅱの「軌跡と領域：不等式の領域」の知識が必要となる。不安な人は[受験の月](https://examist.jp/mathematics/locus-area/futousiki-area/)でも見よう"
      ]
    },
    {
      "cell_type": "markdown",
      "metadata": {
        "id": "N2GnvvNjLROd",
        "colab_type": "text"
      },
      "source": [
        "それぞれをグラフ化するとこうなる"
      ]
    },
    {
      "cell_type": "code",
      "metadata": {
        "id": "54Ae8qwuJm_c",
        "colab_type": "code",
        "colab": {
          "base_uri": "https://localhost:8080/",
          "height": 287
        },
        "outputId": "05c6298a-c61d-4b01-ae9e-c62ac9fca04b"
      },
      "source": [
        "import numpy as np\n",
        "\n",
        "graph = plt.subplot()\n",
        "x = np.arange(0, 180, 1.0)\n",
        "s_t_one = (-0.5 * x) + 40\n",
        "s_t_two = (-1 * x) + 45\n",
        "s_t_three = (-3 * x) + 90\n",
        "graph.plot(x, s_t_one, color=\"green\")\n",
        "graph.fill_between(x, s_t_one, facecolor='green', alpha=0.5)\n",
        "graph.plot(x, s_t_two, color=\"red\")\n",
        "graph.fill_between(x, s_t_two, facecolor='red', alpha=0.5)\n",
        "graph.plot(x, s_t_three, color=\"blue\")\n",
        "graph.fill_between(x, s_t_three, facecolor='blue', alpha=0.5)\n",
        "\n",
        "graph.set_xlim([0, 100])\n",
        "graph.set_ylim([0, 100])\n",
        "graph.set_aspect('equal')\n",
        "plt.show()"
      ],
      "execution_count": 55,
      "outputs": [
        {
          "output_type": "display_data",
          "data": {
            "image/png": "[encoded data removed]",
            "text/plain": [
              "<Figure size 432x288 with 1 Axes>"
            ]
          },
          "metadata": {
            "tags": []
          }
        }
      ]
    },
    {
      "cell_type": "markdown",
      "metadata": {
        "id": "mFHKNB3YQv6v",
        "colab_type": "text"
      },
      "source": [
        "$x_1 = 10$あたりの赤線と緑線の交点、$x_1 = 20$あたりの赤線と青線の交点が怪しいね。これ、最初のうちはどっちも計算して、「あ、こっちの方が大きかった」ってなるのもあり（数学初心者にはむしろオススメ。楽じゃない解法から覚えていくこと）  \n",
        "\n",
        "これはそれまでの数学的な感が働けば、打率50%から確実にホームランを打てる。ほんとは書きたくないんだけど書くね。\n",
        "\n",
        "---\n",
        "\n",
        "目的変数との傾きを比べればいい。今回目星で不動なのは赤線。目的関数の傾きが青線に近いか、緑線に近いかを判断する。目的関数を$k$とおくと\n",
        "$$\n",
        "k = 5x_1 + 4x_2 \\\\\n",
        "4x_2 = - 5x_1 - k \\\\\n",
        "x_2 = - \\frac{5}{4} x_1 - \\frac{1}{4} k\n",
        "$$\n",
        "となる（ここではめんどそうな傾き$\\frac{1}{4} k$は無視していい。必要なのは傾きだけ）。  \n",
        "この傾き$\\frac{5}{4}$というのを、青線の傾き$ - \\frac{1}{3}$と、緑線の傾き$ - \\frac{1}{2}$と重ねて比べる。\n",
        "目的関数が傾きを維持した状態で領域に向かって進行すると、後の方に当たる交点はどちらだろうか。  \n",
        "結論をいうと、傾きが近い直線を含む交点を後に通る。  \n",
        "数学的思考をどんどん取り戻してくれたまえ。グラフを授けよう"
      ]
    },
    {
      "cell_type": "code",
      "metadata": {
        "id": "4ZwHd-65UzQk",
        "colab_type": "code",
        "colab": {
          "base_uri": "https://localhost:8080/",
          "height": 287
        },
        "outputId": "a7438419-f05c-4c62-f59f-6e9c5ae86863"
      },
      "source": [
        "import numpy as np\n",
        "\n",
        "graph = plt.subplot()\n",
        "x = np.arange(0, 180, 1.0)\n",
        "s_t_one = (-0.5 * x) + 40\n",
        "s_t_two = (-1 * x) + 45\n",
        "s_t_three = (-3 * x) + 90\n",
        "graph.plot(x, s_t_one, color=\"green\")\n",
        "graph.fill_between(x, s_t_one, facecolor='green', alpha=0.5)\n",
        "graph.plot(x, s_t_two, color=\"red\")\n",
        "graph.fill_between(x, s_t_two, facecolor='red', alpha=0.5)\n",
        "graph.plot(x, s_t_three, color=\"blue\")\n",
        "graph.fill_between(x, s_t_three, facecolor='blue', alpha=0.5)\n",
        "\n",
        "for i in range(20,50,3):\n",
        "  p_coef = -1 * (5/4) * x + i\n",
        "  graph.plot(x, p_coef, color=\"yellow\")\n",
        "\n",
        "graph.set_xlim([0, 30])\n",
        "graph.set_ylim([10, 50])\n",
        "graph.set_aspect('equal')\n",
        "plt.show()"
      ],
      "execution_count": 65,
      "outputs": [
        {
          "output_type": "display_data",
          "data": {
            "image/png": "[encoded data removed]",
            "text/plain": [
              "<Figure size 432x288 with 1 Axes>"
            ]
          },
          "metadata": {
            "tags": []
          }
        }
      ]
    },
    {
      "cell_type": "markdown",
      "metadata": {
        "id": "pRGMbOl-Xgcc",
        "colab_type": "text"
      },
      "source": [
        "さて、このようにすると案外同じ位置にあるように見える交点でも違うことがわかったね。現時点で赤と緑の交点に近いが、赤と青の交点には遠い。つまりこれらの領域が最大値を取るのは「赤と青の交点」ということになる。実際の交点を計算してみよう"
      ]
    },
    {
      "cell_type": "markdown",
      "metadata": {
        "id": "9jyGCTVuYKJq",
        "colab_type": "text"
      },
      "source": [
        "$$\n",
        "4x_1 + 4x_2 = 180...① \\\\\n",
        "3x_1 + x_2 = 90...② \\\\\n",
        "\\\\\n",
        "これら2つの直線の交点は\n",
        "$$"
      ]
    },
    {
      "cell_type": "markdown",
      "metadata": {
        "id": "YFkYojoLYqJL",
        "colab_type": "text"
      },
      "source": [
        "#### 代入法による解法\n",
        "係数１の項が存在するので加減法よりこちらの方が速い\n",
        "$$\n",
        "①より　\\\\\n",
        "x_2 = -3x_1 + 90 \\\\\n",
        "これを①に代入し　\\\\\n",
        "4x_1 + 4(-3x_1 + 90) = 180となる \\\\\n",
        "4x_1 + -12x_1 + 360 = 180 \\\\\n",
        "8x_1 = 180\n",
        "x_1 = 22.5  \\\\\n",
        "この式を①、②どちらかに代入すればx_2が求まる \\\\\n",
        "②に代入すると \\\\\n",
        "3 × 22.5 + x_2 = 90 \\\\\n",
        "x_2 = 22.5\n",
        "$$"
      ]
    },
    {
      "cell_type": "markdown",
      "metadata": {
        "id": "KNQBeakia346",
        "colab_type": "text"
      },
      "source": [
        "$\\therefore 製品1,2をそれぞれ22.5トンずつ生産すれば、利益は最大の202.5万円となる$"
      ]
    }
  ]
}