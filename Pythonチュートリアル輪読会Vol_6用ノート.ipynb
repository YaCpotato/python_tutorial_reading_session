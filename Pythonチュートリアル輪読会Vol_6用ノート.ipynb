{
  "nbformat": 4,
  "nbformat_minor": 0,
  "metadata": {
    "colab": {
      "name": "Pythonチュートリアル輪読会Vol_6用ノート.ipynb",
      "provenance": [],
      "authorship_tag": "ABX9TyPsI/QLOU6mxyLZAKjuYLpx",
      "include_colab_link": true
    },
    "kernelspec": {
      "name": "python3",
      "display_name": "Python 3"
    }
  },
  "cells": [
    {
      "cell_type": "markdown",
      "metadata": {
        "id": "view-in-github",
        "colab_type": "text"
      },
      "source": [
        "<a href=\"https://colab.research.google.com/github/YaCpotato/python_tutorial_reading_session/blob/master/Python%E3%83%81%E3%83%A5%E3%83%BC%E3%83%88%E3%83%AA%E3%82%A2%E3%83%AB%E8%BC%AA%E8%AA%AD%E4%BC%9AVol_6%E7%94%A8%E3%83%8E%E3%83%BC%E3%83%88.ipynb\" target=\"_parent\"><img src=\"https://colab.research.google.com/assets/colab-badge.svg\" alt=\"Open In Colab\"/></a>"
      ]
    },
    {
      "cell_type": "markdown",
      "metadata": {
        "id": "ujgm_wUit1JJ",
        "colab_type": "text"
      },
      "source": [
        "# 9. クラス"
      ]
    },
    {
      "cell_type": "code",
      "metadata": {
        "id": "prv4ocyatsTy",
        "colab_type": "code",
        "colab": {}
      },
      "source": [
        ""
      ],
      "execution_count": null,
      "outputs": []
    }
  ]
}