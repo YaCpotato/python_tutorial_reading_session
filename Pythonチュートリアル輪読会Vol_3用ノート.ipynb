{
  "nbformat": 4,
  "nbformat_minor": 0,
  "metadata": {
    "colab": {
      "name": "Pythonチュートリアル輪読会Vol.3用ノート.ipynb",
      "provenance": [],
      "collapsed_sections": [],
      "authorship_tag": "ABX9TyPo+ksveHH3+YOk4ZDETTeY",
      "include_colab_link": true
    },
    "kernelspec": {
      "name": "python3",
      "display_name": "Python 3"
    }
  },
  "cells": [
    {
      "cell_type": "markdown",
      "metadata": {
        "id": "view-in-github",
        "colab_type": "text"
      },
      "source": [
        "<a href=\"https://colab.research.google.com/github/YaCpotato/python_tutorial_reading_session/blob/master/Python%E3%83%81%E3%83%A5%E3%83%BC%E3%83%88%E3%83%AA%E3%82%A2%E3%83%AB%E8%BC%AA%E8%AA%AD%E4%BC%9AVol_3%E7%94%A8%E3%83%8E%E3%83%BC%E3%83%88.ipynb\" target=\"_parent\"><img src=\"https://colab.research.google.com/assets/colab-badge.svg\" alt=\"Open In Colab\"/></a>"
      ]
    },
    {
      "cell_type": "markdown",
      "metadata": {
        "id": "7Op7iSQJjII2",
        "colab_type": "text"
      },
      "source": [
        "## データ構造"
      ]
    },
    {
      "cell_type": "markdown",
      "metadata": {
        "id": "tSEWR6Btjca_",
        "colab_type": "text"
      },
      "source": [
        "### 5.1 リスト型について"
      ]
    },
    {
      "cell_type": "markdown",
      "metadata": {
        "id": "26wrq9YBjjH3",
        "colab_type": "text"
      },
      "source": [
        "#### **list.append(x)**\n",
        "リストの末尾に要素を一つ追加します。\n",
        "```python\n",
        "a[len(a):] = [x] \n",
        "```\n",
        "と等価"
      ]
    },
    {
      "cell_type": "code",
      "metadata": {
        "id": "9UYk_bfuihSd",
        "colab_type": "code",
        "outputId": "032e2e47-cab6-496b-9ceb-ba01b8067d33",
        "colab": {
          "base_uri": "https://localhost:8080/",
          "height": 34
        }
      },
      "source": [
        "a = [1, 2, 3]\n",
        "a.append(4)\n",
        "print(a)"
      ],
      "execution_count": 0,
      "outputs": [
        {
          "output_type": "stream",
          "text": [
            "[1, 2, 3, 4]\n"
          ],
          "name": "stdout"
        }
      ]
    },
    {
      "cell_type": "code",
      "metadata": {
        "id": "jXY-Mt_EkBJg",
        "colab_type": "code",
        "outputId": "90a60772-e7d7-438e-9694-0bfc3b8ab857",
        "colab": {
          "base_uri": "https://localhost:8080/",
          "height": 34
        }
      },
      "source": [
        "# リストaの長さの位置（len(a)）　”から先は”　= で指定した配列ですよって式↓\n",
        "# 配列の結合（pandasのconcatみたいなやつ）なので、[5]と書いているところを単に５と書くとエラーになる\n",
        "\n",
        "a[len(a):] = [5]\n",
        "print(a)"
      ],
      "execution_count": 0,
      "outputs": [
        {
          "output_type": "stream",
          "text": [
            "[1, 2, 3, 4, 5]\n"
          ],
          "name": "stdout"
        }
      ]
    },
    {
      "cell_type": "markdown",
      "metadata": {
        "id": "_HDu-fZ3mXBN",
        "colab_type": "text"
      },
      "source": [
        "#### **list.extend(iterable)**\n",
        "イテラブルのすべての要素を対象のリストに追加し、リストを拡張します。 \n",
        "```python\n",
        "a[len(a):] = iterable\n",
        "```\n",
        "と等価"
      ]
    },
    {
      "cell_type": "code",
      "metadata": {
        "id": "RJ4pzEjOkL3W",
        "colab_type": "code",
        "outputId": "694819ad-0e8c-4025-ffa9-02fefe4500eb",
        "colab": {
          "base_uri": "https://localhost:8080/",
          "height": 34
        }
      },
      "source": [
        "b = [1, 2, 3]\n",
        "b.extend(range(0, 10))\n",
        "print(b)"
      ],
      "execution_count": 0,
      "outputs": [
        {
          "output_type": "stream",
          "text": [
            "[1, 2, 3, 0, 1, 2, 3, 4, 5, 6, 7, 8, 9]\n"
          ],
          "name": "stdout"
        }
      ]
    },
    {
      "cell_type": "code",
      "metadata": {
        "id": "r7iUAP3KnZvf",
        "colab_type": "code",
        "outputId": "b56ed517-c542-4052-a172-c9275d35ab87",
        "colab": {
          "base_uri": "https://localhost:8080/",
          "height": 34
        }
      },
      "source": [
        "b[len(b):] = range(1, 11, 2)\n",
        "print(b)"
      ],
      "execution_count": 0,
      "outputs": [
        {
          "output_type": "stream",
          "text": [
            "[1, 2, 3, 0, 1, 2, 3, 4, 5, 6, 7, 8, 9, 1, 3, 5, 7, 9]\n"
          ],
          "name": "stdout"
        }
      ]
    },
    {
      "cell_type": "markdown",
      "metadata": {
        "id": "rJJlwgoSosOq",
        "colab_type": "text"
      },
      "source": [
        "#### **list.insert(i, x)**\n",
        "指定した位置に要素を挿入します。第 1 引数は、リストのインデクスで、そのインデクスを持つ要素の直前に挿入が行われます。\n",
        "```python\n",
        "a.insert(0, x) # リストaの先頭（インデックス０）に挿入\n",
        "\n",
        "a.insert(len(a), x) #下と等価\n",
        "a.append(x)\n",
        "```"
      ]
    },
    {
      "cell_type": "code",
      "metadata": {
        "id": "SqIPiMh9pbpK",
        "colab_type": "code",
        "outputId": "f85a17c0-e47c-4eb8-a433-5eaa354c339c",
        "colab": {
          "base_uri": "https://localhost:8080/",
          "height": 34
        }
      },
      "source": [
        "c = [1, 2, 3]\n",
        "c.insert(1, 0)\n",
        "print(c)"
      ],
      "execution_count": 0,
      "outputs": [
        {
          "output_type": "stream",
          "text": [
            "[1, 0, 2, 3]\n"
          ],
          "name": "stdout"
        }
      ]
    },
    {
      "cell_type": "code",
      "metadata": {
        "id": "CglW5J8Gp8BN",
        "colab_type": "code",
        "outputId": "34d70ff9-3112-4968-f598-9a998960733c",
        "colab": {
          "base_uri": "https://localhost:8080/",
          "height": 51
        }
      },
      "source": [
        "copy_c = c.copy()\n",
        "copy_c.insert(len(copy_c),1)\n",
        "c.append(1)\n",
        "print(\"c is {list}\".format(list = c))\n",
        "print(\"copy_c is {list}\".format(list = copy_c))"
      ],
      "execution_count": 0,
      "outputs": [
        {
          "output_type": "stream",
          "text": [
            "c is [1, 0, 2, 3, 1]\n",
            "copy_c is [1, 0, 2, 3, 1]\n"
          ],
          "name": "stdout"
        }
      ]
    },
    {
      "cell_type": "markdown",
      "metadata": {
        "id": "V82wOqArrU4I",
        "colab_type": "text"
      },
      "source": [
        "#### **list.remove(x)**\n",
        "リスト中で、**値 x を持つ最初の要素を削除**します。該当する項目がなければエラー"
      ]
    },
    {
      "cell_type": "code",
      "metadata": {
        "id": "dUprhOSordvu",
        "colab_type": "code",
        "outputId": "7a9fa424-ef70-4cf5-822a-06478e51aa84",
        "colab": {
          "base_uri": "https://localhost:8080/",
          "height": 34
        }
      },
      "source": [
        "d = [1, 0, 2, 3, 0] # インデックス１の０が削除される\n",
        "d.remove(0)\n",
        "print(d)"
      ],
      "execution_count": 0,
      "outputs": [
        {
          "output_type": "stream",
          "text": [
            "[1, 2, 3, 0]\n"
          ],
          "name": "stdout"
        }
      ]
    },
    {
      "cell_type": "markdown",
      "metadata": {
        "id": "xSQm1YwBsRsb",
        "colab_type": "text"
      },
      "source": [
        "#### **list.pop([i])**\n",
        "リスト中の指定された位置にある要素をリストから削除して、その要素を返します。インデクスが指定されなければ、 a.pop() はリストの末尾の要素を削除して返します。この場合も要素は削除される　　\n",
        "\n",
        "引数の[ ] 　は、オプション引数の表記。なくてもいい"
      ]
    },
    {
      "cell_type": "code",
      "metadata": {
        "id": "GJhwLY-asPJe",
        "colab_type": "code",
        "outputId": "e5c52cd7-a38c-4cdf-f0df-ea49d2791362",
        "colab": {
          "base_uri": "https://localhost:8080/",
          "height": 51
        }
      },
      "source": [
        "e = [1,0,2,3]\n",
        "print(\"e.pop(1) の戻り値は {pop}.\".format(pop = e.pop(1))) # インデックス１にある要素を抜き出す\n",
        "print(\"現在の変数eは {e}\".format(e = e))"
      ],
      "execution_count": 0,
      "outputs": [
        {
          "output_type": "stream",
          "text": [
            "e.pop(1) の戻り値は 0.\n",
            "現在の変数eは [1, 2, 3]\n"
          ],
          "name": "stdout"
        }
      ]
    },
    {
      "cell_type": "markdown",
      "metadata": {
        "id": "4QXEfZlUty8O",
        "colab_type": "text"
      },
      "source": [
        "#### **list.clear()**\n",
        "リスト中の全ての要素を削除する。\n",
        "```python\n",
        "del a[:]\n",
        "```\n",
        "と等価"
      ]
    },
    {
      "cell_type": "code",
      "metadata": {
        "id": "m5jSuzt5uCxT",
        "colab_type": "code",
        "outputId": "1f7da9aa-0317-4800-d6d5-5b6ed69cb75e",
        "colab": {
          "base_uri": "https://localhost:8080/",
          "height": 51
        }
      },
      "source": [
        "f = [1,2,3]\n",
        "g = [4,5,6]\n",
        "f.clear()\n",
        "print(\"f is {list}\".format(list = f))\n",
        "g.clear()\n",
        "print(\"g is {list}\".format(list = g))"
      ],
      "execution_count": 0,
      "outputs": [
        {
          "output_type": "stream",
          "text": [
            "f is []\n",
            "g is []\n"
          ],
          "name": "stdout"
        }
      ]
    },
    {
      "cell_type": "markdown",
      "metadata": {
        "id": "ZLuzFA7pvMxy",
        "colab_type": "text"
      },
      "source": [
        "#### **list.index(x[, start[, end]])**\n",
        "リスト中で、値 x を持つ最初の要素の位置をゼロから始まる添字で返します。 該当する要素がなければ、ValueError を送出します。\n",
        "\n",
        "任意の引数である start と end はスライス記法として解釈され、リストの探索範囲を指定できます。返される添字は、start 引数からの相対位置ではなく、リスト全体の先頭からの位置になります。\n",
        "\n",
        "**配列みたいな表記はオプション引数の表記だから！**"
      ]
    },
    {
      "cell_type": "code",
      "metadata": {
        "id": "VR38nzKovaqx",
        "colab_type": "code",
        "outputId": "8ea1fe9f-8814-4524-a3b3-e6715a526028",
        "colab": {
          "base_uri": "https://localhost:8080/",
          "height": 34
        }
      },
      "source": [
        "h = [0,0,0,1,1,1,0,0]\n",
        "print(h.index(1))"
      ],
      "execution_count": 0,
      "outputs": [
        {
          "output_type": "stream",
          "text": [
            "3\n"
          ],
          "name": "stdout"
        }
      ]
    },
    {
      "cell_type": "code",
      "metadata": {
        "id": "tl7zJLvyv5FC",
        "colab_type": "code",
        "outputId": "c330c92b-7120-43ab-ad0f-cdabc63ef9dc",
        "colab": {
          "base_uri": "https://localhost:8080/",
          "height": 34
        }
      },
      "source": [
        "i = [0, 0, 0, 0, 0, 0, 0, 0, 0, 0, 0, 0, 0, 0, 0, 0, 0, 0, 0, 1, 0, 0, 0, 0, 0, 0, 0, 0, 0, 0, 0, 0, 0, 0, 0, 0, 0, 0, 0, 0, 0, 0, 0, 0, 0, 0, 0, 0, 0, 0, 0, 0, 0, 0, 0,0, 0, 0, 0, 0, 0, 0, 0, 0, 0, 0, 0, 0, 0, 0, 0, 0, 0, 0, 0, 0, 0, 0, 0, 0, 0, 0, 0, 0, 0, 0, 0, 0, 0, 0, 0,0, 0, 0, 0, 0, 0, 0, 0, 0, 0, 0, 0, 0, 0, 0, 0, 0, 0, 0, 0, 0, 0, 0, 0, 0, 0, 0, 0, 0, 0, 0, 0, 0, 0, 0, 0,0, 0, 0, 0, 0, 0, 0, 0, 0, 0, 0, 0, 0]\n",
        "print(len(i))"
      ],
      "execution_count": 0,
      "outputs": [
        {
          "output_type": "stream",
          "text": [
            "140\n"
          ],
          "name": "stdout"
        }
      ]
    },
    {
      "cell_type": "code",
      "metadata": {
        "id": "LTFzmUFawqHN",
        "colab_type": "code",
        "outputId": "cf8c03fc-3dbb-4faf-b726-b6953504e0a6",
        "colab": {
          "base_uri": "https://localhost:8080/",
          "height": 34
        }
      },
      "source": [
        "# 鷹の目スキルを使って、インデックス15あたりに１ない？ってのがわかったので\n",
        "# 誤差プラマイ５を考慮して探索してみよう\n",
        "\n",
        "# インデックス１０から２０の間にありそうな１を探索する\n",
        "print(i.index(1, 10, 20))"
      ],
      "execution_count": 0,
      "outputs": [
        {
          "output_type": "stream",
          "text": [
            "19\n"
          ],
          "name": "stdout"
        }
      ]
    },
    {
      "cell_type": "markdown",
      "metadata": {
        "id": "IH9VI7q9ySwl",
        "colab_type": "text"
      },
      "source": [
        "#### **list.count(x)**\n",
        "リストでの x の出現回数を返す。"
      ]
    },
    {
      "cell_type": "code",
      "metadata": {
        "id": "FbE6HmmiztFX",
        "colab_type": "code",
        "outputId": "e646868b-efc6-4098-d59f-11ef23da7386",
        "colab": {
          "base_uri": "https://localhost:8080/",
          "height": 34
        }
      },
      "source": [
        "k = [0, 0, 0, 0, 1, 1, 1, 1, 2, 2]\n",
        "print(k.count(1))"
      ],
      "execution_count": 0,
      "outputs": [
        {
          "output_type": "stream",
          "text": [
            "4\n"
          ],
          "name": "stdout"
        }
      ]
    },
    {
      "cell_type": "markdown",
      "metadata": {
        "id": "O8hbJNa2z56G",
        "colab_type": "text"
      },
      "source": [
        "#### **list.sort(key=None, reverse=False)**\n",
        "\n",
        "リストの項目を、インプレース演算 (in place、元のデータを演算結果で置き換えるやりかた) でソートします。引数はソート方法のカスタマイズに使えます。 \n",
        "\n",
        "sorted() はイテラブルも可能\n",
        "\n",
        "**=Noneとかはデフォルト引数の表記ね。つまり引数なしでも呼べるの**\n",
        "\n",
        "https://docs.python.org/ja/3/howto/sorting.html"
      ]
    },
    {
      "cell_type": "code",
      "metadata": {
        "id": "EV0BGOb80Ws1",
        "colab_type": "code",
        "outputId": "6efaacf8-99ad-49a1-83c1-4368ea2591ee",
        "colab": {
          "base_uri": "https://localhost:8080/",
          "height": 34
        }
      },
      "source": [
        "l = [1, 3, 2, 6, 5, 4]\n",
        "l.sort()\n",
        "print(l)"
      ],
      "execution_count": 0,
      "outputs": [
        {
          "output_type": "stream",
          "text": [
            "[1, 2, 3, 4, 5, 6]\n"
          ],
          "name": "stdout"
        }
      ]
    },
    {
      "cell_type": "code",
      "metadata": {
        "id": "cEaFUvbT0vrF",
        "colab_type": "code",
        "outputId": "9e64efb8-3943-4757-f64b-e114a885dab4",
        "colab": {
          "base_uri": "https://localhost:8080/",
          "height": 34
        }
      },
      "source": [
        "m = [1, 5, 3, 4, 6, 2]\n",
        "m.sort(reverse=True)\n",
        "print(m)"
      ],
      "execution_count": 0,
      "outputs": [
        {
          "output_type": "stream",
          "text": [
            "[6, 5, 4, 3, 2, 1]\n"
          ],
          "name": "stdout"
        }
      ]
    },
    {
      "cell_type": "code",
      "metadata": {
        "id": "su2axC2D5xVm",
        "colab_type": "code",
        "outputId": "3c4e8faa-353a-44b8-d2e5-1befcbc28599",
        "colab": {
          "base_uri": "https://localhost:8080/",
          "height": 51
        }
      },
      "source": [
        "n = range(10,0,-1)\n",
        "print(list(n))\n",
        "print(sorted(n))"
      ],
      "execution_count": 0,
      "outputs": [
        {
          "output_type": "stream",
          "text": [
            "[10, 9, 8, 7, 6, 5, 4, 3, 2, 1]\n",
            "[1, 2, 3, 4, 5, 6, 7, 8, 9, 10]\n"
          ],
          "name": "stdout"
        }
      ]
    },
    {
      "cell_type": "markdown",
      "metadata": {
        "id": "02ev0rKV5Ioo",
        "colab_type": "text"
      },
      "source": [
        "キーとして扱えるものが存在するタプルや辞書には引数keyで対応できる"
      ]
    },
    {
      "cell_type": "code",
      "metadata": {
        "id": "IsyiFUQN1G2s",
        "colab_type": "code",
        "outputId": "dfa62541-5173-4821-dba2-0d2ca61eccc1",
        "colab": {
          "base_uri": "https://localhost:8080/",
          "height": 34
        }
      },
      "source": [
        "o = [\n",
        "     (3, \"Joseph Gilgun\"),\n",
        "     (4, \"Samy Naceri\"),\n",
        "     (1, \"Sylvester Stallone\"),\n",
        "     (2, \"Jason Statham\")\n",
        "    ]\n",
        "\n",
        "o.sort(key=lambda x: x[0]) # タプル要素０の数字ソート\n",
        "print(n)"
      ],
      "execution_count": 0,
      "outputs": [
        {
          "output_type": "stream",
          "text": [
            "[(1, 'Sylvester Stallone'), (2, 'Jason Statham'), (3, 'Joseph Gilgun'), (4, 'Samy Naceri')]\n"
          ],
          "name": "stdout"
        }
      ]
    },
    {
      "cell_type": "markdown",
      "metadata": {
        "id": "jEE_gCUN7AGb",
        "colab_type": "text"
      },
      "source": [
        "#### **list.reverse()**\n",
        "リストの要素を、インプレース演算で逆順にします。"
      ]
    },
    {
      "cell_type": "code",
      "metadata": {
        "id": "PWc3gonn7JtD",
        "colab_type": "code",
        "outputId": "7644e7df-561b-4ce0-dfbf-ac521447ab6b",
        "colab": {
          "base_uri": "https://localhost:8080/",
          "height": 34
        }
      },
      "source": [
        "p = [1, 1, 0, 0, 2, 2]\n",
        "p.reverse()\n",
        "print(p)"
      ],
      "execution_count": 0,
      "outputs": [
        {
          "output_type": "stream",
          "text": [
            "[2, 2, 0, 0, 1, 1]\n"
          ],
          "name": "stdout"
        }
      ]
    },
    {
      "cell_type": "markdown",
      "metadata": {
        "id": "kZnBT2hh7kYJ",
        "colab_type": "text"
      },
      "source": [
        "#### **list.copy()**\n",
        "リストの浅い (shallow) コピーを返します。a[:] と等価です。"
      ]
    },
    {
      "cell_type": "code",
      "metadata": {
        "id": "r7YzQ9RY7pcT",
        "colab_type": "code",
        "outputId": "91bcb230-7da7-498c-f8de-de281408bbfb",
        "colab": {
          "base_uri": "https://localhost:8080/",
          "height": 68
        }
      },
      "source": [
        "q = [1, 2, 3, 4]\n",
        "r = q.copy()\n",
        "s = q[:]\n",
        "print(q)\n",
        "print(r)\n",
        "print(s)"
      ],
      "execution_count": 0,
      "outputs": [
        {
          "output_type": "stream",
          "text": [
            "[1, 2, 3, 4]\n",
            "[1, 2, 3, 4]\n",
            "[1, 2, 3, 4]\n"
          ],
          "name": "stdout"
        }
      ]
    },
    {
      "cell_type": "markdown",
      "metadata": {
        "id": "lg_SPdgWeBCb",
        "colab_type": "text"
      },
      "source": [
        "### 5.1.1 リストをスタックとして使う\n",
        "スタックってなに：挿入、削除がリストの先頭からしかできないLIFO（Last In First Out）のデータ構造"
      ]
    },
    {
      "cell_type": "code",
      "metadata": {
        "id": "EXWvhCoNeDco",
        "colab_type": "code",
        "outputId": "a9825c0c-ee6c-422e-b6a3-a605a560d021",
        "colab": {
          "base_uri": "https://localhost:8080/",
          "height": 34
        }
      },
      "source": [
        "stack = [3, 4, 5]\n",
        "stack.append(6)\n",
        "stack.append(7)\n",
        "print(stack)"
      ],
      "execution_count": 0,
      "outputs": [
        {
          "output_type": "stream",
          "text": [
            "[3, 4, 5, 6, 7]\n"
          ],
          "name": "stdout"
        }
      ]
    },
    {
      "cell_type": "code",
      "metadata": {
        "id": "daboo6lAen2l",
        "colab_type": "code",
        "outputId": "94e33668-5e80-45d0-8bab-97516c9bb511",
        "colab": {
          "base_uri": "https://localhost:8080/",
          "height": 34
        }
      },
      "source": [
        "stack.pop()"
      ],
      "execution_count": 0,
      "outputs": [
        {
          "output_type": "execute_result",
          "data": {
            "text/plain": [
              "7"
            ]
          },
          "metadata": {
            "tags": []
          },
          "execution_count": 2
        }
      ]
    },
    {
      "cell_type": "code",
      "metadata": {
        "id": "wCqtg1WXeoPN",
        "colab_type": "code",
        "outputId": "48384b32-16bf-46eb-a15f-ac89760fb0ef",
        "colab": {
          "base_uri": "https://localhost:8080/",
          "height": 34
        }
      },
      "source": [
        "print(stack)"
      ],
      "execution_count": 0,
      "outputs": [
        {
          "output_type": "stream",
          "text": [
            "[3, 4, 5, 6]\n"
          ],
          "name": "stdout"
        }
      ]
    },
    {
      "cell_type": "code",
      "metadata": {
        "id": "mY0nccq1ewkR",
        "colab_type": "code",
        "outputId": "4d792825-7770-4f39-9618-cde9bf119f84",
        "colab": {
          "base_uri": "https://localhost:8080/",
          "height": 34
        }
      },
      "source": [
        "stack.pop()"
      ],
      "execution_count": 0,
      "outputs": [
        {
          "output_type": "execute_result",
          "data": {
            "text/plain": [
              "6"
            ]
          },
          "metadata": {
            "tags": []
          },
          "execution_count": 4
        }
      ]
    },
    {
      "cell_type": "code",
      "metadata": {
        "id": "fRhCY4kMexL5",
        "colab_type": "code",
        "outputId": "8e96800e-c64c-4ce0-fa4f-10fead640d5b",
        "colab": {
          "base_uri": "https://localhost:8080/",
          "height": 34
        }
      },
      "source": [
        "stack.pop()"
      ],
      "execution_count": 0,
      "outputs": [
        {
          "output_type": "execute_result",
          "data": {
            "text/plain": [
              "5"
            ]
          },
          "metadata": {
            "tags": []
          },
          "execution_count": 5
        }
      ]
    },
    {
      "cell_type": "markdown",
      "metadata": {
        "id": "O9PcB0Hme0aE",
        "colab_type": "text"
      },
      "source": [
        "### 5.1.2 リストをキューとして使う\n",
        "キューってなに：先に入れた要素から順に取り出すという規則で出し入れを行うFIFO(First In First Out)データ構造"
      ]
    },
    {
      "cell_type": "code",
      "metadata": {
        "id": "USENc4pcfPHQ",
        "colab_type": "code",
        "outputId": "19574656-a1ff-4df4-84e8-a22b8cb1ab70",
        "colab": {
          "base_uri": "https://localhost:8080/",
          "height": 34
        }
      },
      "source": [
        "from collections import deque\n",
        "queue = deque([\"Eric\", \"John\", \"Michael\"])\n",
        "queue.append(\"Terry\")           # Terry arrives\n",
        "queue.append(\"Graham\")          # Graham arrives\n",
        "queue.popleft()                 # The first to arrive now leaves"
      ],
      "execution_count": 0,
      "outputs": [
        {
          "output_type": "execute_result",
          "data": {
            "text/plain": [
              "'Eric'"
            ]
          },
          "metadata": {
            "tags": []
          },
          "execution_count": 6
        }
      ]
    },
    {
      "cell_type": "code",
      "metadata": {
        "id": "3R1MK3uSfmzA",
        "colab_type": "code",
        "outputId": "930eaa23-7d56-4dab-dc30-8d8021db7919",
        "colab": {
          "base_uri": "https://localhost:8080/",
          "height": 34
        }
      },
      "source": [
        "queue.popleft()                 # The second to arrive now leaves"
      ],
      "execution_count": 0,
      "outputs": [
        {
          "output_type": "execute_result",
          "data": {
            "text/plain": [
              "'John'"
            ]
          },
          "metadata": {
            "tags": []
          },
          "execution_count": 7
        }
      ]
    },
    {
      "cell_type": "code",
      "metadata": {
        "id": "WL7dzcUcfnM5",
        "colab_type": "code",
        "outputId": "67ead71f-76a4-40f8-adb4-d232d51dcf3f",
        "colab": {
          "base_uri": "https://localhost:8080/",
          "height": 34
        }
      },
      "source": [
        "queue"
      ],
      "execution_count": 0,
      "outputs": [
        {
          "output_type": "execute_result",
          "data": {
            "text/plain": [
              "deque(['Michael', 'Terry', 'Graham'])"
            ]
          },
          "metadata": {
            "tags": []
          },
          "execution_count": 8
        }
      ]
    },
    {
      "cell_type": "markdown",
      "metadata": {
        "id": "JfX14Hnif70M",
        "colab_type": "text"
      },
      "source": [
        "### 5.1.3 リストの内包表記"
      ]
    },
    {
      "cell_type": "code",
      "metadata": {
        "id": "WeKNCUiXgIO1",
        "colab_type": "code",
        "outputId": "ad6c8b58-2e9f-459c-fd3a-370b81a9dd98",
        "colab": {
          "base_uri": "https://localhost:8080/",
          "height": 34
        }
      },
      "source": [
        "squares = []\n",
        "for x in range(10):\n",
        "  squares.append(x**2)\n",
        "\n",
        "squares"
      ],
      "execution_count": 0,
      "outputs": [
        {
          "output_type": "execute_result",
          "data": {
            "text/plain": [
              "[0, 1, 4, 9, 16, 25, 36, 49, 64, 81]"
            ]
          },
          "metadata": {
            "tags": []
          },
          "execution_count": 9
        }
      ]
    },
    {
      "cell_type": "code",
      "metadata": {
        "id": "ia13VCSegTdS",
        "colab_type": "code",
        "outputId": "10413d42-fac7-4c1f-a51a-3d36ed2068a4",
        "colab": {
          "base_uri": "https://localhost:8080/",
          "height": 34
        }
      },
      "source": [
        "squares = list(map(lambda x: x**2, range(10)))\n",
        "print(squares)"
      ],
      "execution_count": 0,
      "outputs": [
        {
          "output_type": "stream",
          "text": [
            "[0, 1, 4, 9, 16, 25, 36, 49, 64, 81]\n"
          ],
          "name": "stdout"
        }
      ]
    },
    {
      "cell_type": "code",
      "metadata": {
        "id": "zeZE67tYgZTA",
        "colab_type": "code",
        "colab": {}
      },
      "source": [
        "squares = [x**2 for x in range(10)]\n",
        "print(squares)"
      ],
      "execution_count": 0,
      "outputs": []
    },
    {
      "cell_type": "code",
      "metadata": {
        "id": "GrI3vWW6ghTB",
        "colab_type": "code",
        "outputId": "df376e82-e507-4aee-81bb-38f454c88a5c",
        "colab": {
          "base_uri": "https://localhost:8080/",
          "height": 34
        }
      },
      "source": [
        "[(x, y) for x in [1, 2, 3] for y in [3, 1, 4] if x != y]"
      ],
      "execution_count": 0,
      "outputs": [
        {
          "output_type": "execute_result",
          "data": {
            "text/plain": [
              "[(1, 3), (1, 4), (2, 3), (2, 1), (2, 4), (3, 1), (3, 4)]"
            ]
          },
          "metadata": {
            "tags": []
          },
          "execution_count": 15
        }
      ]
    },
    {
      "cell_type": "markdown",
      "metadata": {
        "id": "03LnAaaNgkfu",
        "colab_type": "text"
      },
      "source": [
        "1. x = 1でy = 3,1,4とループが回るが、y = 1 = xとなるのでそこは出力されない(この時点で(1, 3),(1, 4)が出力されている)\n",
        "2.3も同様に、x = yでないときを除き、yとのタプルが生成される。\n",
        "\n",
        "わかりやすくすると以下のようなコードになる"
      ]
    },
    {
      "cell_type": "code",
      "metadata": {
        "id": "IAyNz1I6ghp8",
        "colab_type": "code",
        "outputId": "18a1c28a-7a5f-445e-f179-686fe02de1cd",
        "colab": {
          "base_uri": "https://localhost:8080/",
          "height": 34
        }
      },
      "source": [
        "combs = []\n",
        "for x in [1, 2, 3]:\n",
        "  for y in [3, 1, 4]:\n",
        "    if x != y:\n",
        "      combs.append((x, y))\n",
        "\n",
        "combs"
      ],
      "execution_count": 0,
      "outputs": [
        {
          "output_type": "execute_result",
          "data": {
            "text/plain": [
              "[(1, 3), (1, 4), (2, 3), (2, 1), (2, 4), (3, 1), (3, 4)]"
            ]
          },
          "metadata": {
            "tags": []
          },
          "execution_count": 16
        }
      ]
    },
    {
      "cell_type": "code",
      "metadata": {
        "id": "qzO6-XyThmVk",
        "colab_type": "code",
        "colab": {
          "base_uri": "https://localhost:8080/",
          "height": 34
        },
        "outputId": "509dcd4c-89af-468d-f30d-c985e8991bf2"
      },
      "source": [
        "vec = [-4, -2, 0, 2, 4]\n",
        "\n",
        "# ２倍の値のリストを作る\n",
        "[x*2 for x in vec]"
      ],
      "execution_count": 1,
      "outputs": [
        {
          "output_type": "execute_result",
          "data": {
            "text/plain": [
              "[-8, -4, 0, 4, 8]"
            ]
          },
          "metadata": {
            "tags": []
          },
          "execution_count": 1
        }
      ]
    },
    {
      "cell_type": "code",
      "metadata": {
        "id": "S9pwmYPo3vtm",
        "colab_type": "code",
        "colab": {
          "base_uri": "https://localhost:8080/",
          "height": 34
        },
        "outputId": "5102165a-a921-4f51-8b71-1aae65dbb8e0"
      },
      "source": [
        "# リストからマイナスの値を除く\n",
        "[x for x in vec if x >= 0]"
      ],
      "execution_count": 2,
      "outputs": [
        {
          "output_type": "execute_result",
          "data": {
            "text/plain": [
              "[0, 2, 4]"
            ]
          },
          "metadata": {
            "tags": []
          },
          "execution_count": 2
        }
      ]
    },
    {
      "cell_type": "code",
      "metadata": {
        "id": "9uYxPp524P4M",
        "colab_type": "code",
        "colab": {
          "base_uri": "https://localhost:8080/",
          "height": 34
        },
        "outputId": "d4f8ae44-dbcb-46e3-dc42-a277ea8a777d"
      },
      "source": [
        "# リスト内全ての値に関数を適用する\n",
        "[abs(x) for x in vec]"
      ],
      "execution_count": 3,
      "outputs": [
        {
          "output_type": "execute_result",
          "data": {
            "text/plain": [
              "[4, 2, 0, 2, 4]"
            ]
          },
          "metadata": {
            "tags": []
          },
          "execution_count": 3
        }
      ]
    },
    {
      "cell_type": "markdown",
      "metadata": {
        "id": "SyA0LVA24fBd",
        "colab_type": "text"
      },
      "source": [
        "＝＝＝＝＝＝＝＝＝＝＝＝＝＝＝＝＝＝＝＝＝"
      ]
    },
    {
      "cell_type": "code",
      "metadata": {
        "id": "q2xHjmRp4g0J",
        "colab_type": "code",
        "colab": {
          "base_uri": "https://localhost:8080/",
          "height": 34
        },
        "outputId": "2528e4e7-0365-4059-bd58-3399a32ab7e4"
      },
      "source": [
        "freshfruit = ['  banana', '  loganberry ', 'passion fruit  ']\n",
        "\n",
        "# 半角スペースをリストの各要素から除く\n",
        "[weapon.strip() for weapon in freshfruit]"
      ],
      "execution_count": 4,
      "outputs": [
        {
          "output_type": "execute_result",
          "data": {
            "text/plain": [
              "['banana', 'loganberry', 'passion fruit']"
            ]
          },
          "metadata": {
            "tags": []
          },
          "execution_count": 4
        }
      ]
    },
    {
      "cell_type": "code",
      "metadata": {
        "id": "Wi9IwwQY48xZ",
        "colab_type": "code",
        "colab": {
          "base_uri": "https://localhost:8080/",
          "height": 34
        },
        "outputId": "8ec674bb-0442-4378-f142-91f7dc67be35"
      },
      "source": [
        "# 数値とその二条の値からなるタプルのリストを作る\n",
        "[(x, x**2) for x in range(6)]"
      ],
      "execution_count": 5,
      "outputs": [
        {
          "output_type": "execute_result",
          "data": {
            "text/plain": [
              "[(0, 0), (1, 1), (2, 4), (3, 9), (4, 16), (5, 25)]"
            ]
          },
          "metadata": {
            "tags": []
          },
          "execution_count": 5
        }
      ]
    },
    {
      "cell_type": "code",
      "metadata": {
        "id": "FGpTm0Hz6N4T",
        "colab_type": "code",
        "colab": {}
      },
      "source": [
        "# list comprehensionを使って二次元リストを平滑化する\n",
        "vec = [[1, 2, 3], [4, 5, 6], [7, 8, 9]]\n",
        "[num for elem in vec for num in elem]"
      ],
      "execution_count": 0,
      "outputs": []
    },
    {
      "cell_type": "markdown",
      "metadata": {
        "id": "eqUsgXkW7jCh",
        "colab_type": "text"
      },
      "source": [
        "#### リスト内包表記\n",
        "リストの中身を二倍にしたリストを作りたい場合\n"
      ]
    },
    {
      "cell_type": "markdown",
      "metadata": {
        "id": "7yAGtD078OJJ",
        "colab_type": "text"
      },
      "source": [
        "**リスト内包表記を使わない場合**"
      ]
    },
    {
      "cell_type": "code",
      "metadata": {
        "id": "eRIv3M468LjZ",
        "colab_type": "code",
        "colab": {
          "base_uri": "https://localhost:8080/",
          "height": 34
        },
        "outputId": "86c2eddb-3de5-480c-d987-a21594689bf0"
      },
      "source": [
        "ｔ = [1, 2, 3]\n",
        "\n",
        "def doubler(lst):\n",
        "    doubled = []\n",
        "    for num in lst:\n",
        "        doubled.append(num*2)\n",
        "    return doubled\n",
        "\n",
        "double_ｔ = doubler(ｔ)\n",
        "print(double_ｔ)"
      ],
      "execution_count": 13,
      "outputs": [
        {
          "output_type": "stream",
          "text": [
            "[2, 4, 6]\n"
          ],
          "name": "stdout"
        }
      ]
    },
    {
      "cell_type": "markdown",
      "metadata": {
        "id": "XPSzl_Kt89dH",
        "colab_type": "text"
      },
      "source": [
        "**リスト内包表記を使う場合**"
      ]
    },
    {
      "cell_type": "code",
      "metadata": {
        "id": "Jnx4MFgp8_tU",
        "colab_type": "code",
        "colab": {
          "base_uri": "https://localhost:8080/",
          "height": 34
        },
        "outputId": "01d0e312-2820-40d9-a8ce-3e1bb40a1a0a"
      },
      "source": [
        "u = [1, 2, 3]\n",
        "\n",
        "def doubler(lst):\n",
        "    doubled = [num*2 for num in lst]\n",
        "    return doubled\n",
        "\n",
        "double_u = doubler(u)\n",
        "print(double_u)"
      ],
      "execution_count": 14,
      "outputs": [
        {
          "output_type": "stream",
          "text": [
            "[2, 4, 6]\n"
          ],
          "name": "stdout"
        }
      ]
    },
    {
      "cell_type": "code",
      "metadata": {
        "id": "LAO63YdW-VJp",
        "colab_type": "code",
        "colab": {
          "base_uri": "https://localhost:8080/",
          "height": 34
        },
        "outputId": "4d4db0bc-d271-4f9b-f145-cf8a514d1da5"
      },
      "source": [
        "from math import pi\n",
        "[str(round(pi, i)) for i in range(1, 6)]"
      ],
      "execution_count": 15,
      "outputs": [
        {
          "output_type": "execute_result",
          "data": {
            "text/plain": [
              "['3.1', '3.14', '3.142', '3.1416', '3.14159']"
            ]
          },
          "metadata": {
            "tags": []
          },
          "execution_count": 15
        }
      ]
    },
    {
      "cell_type": "markdown",
      "metadata": {
        "id": "UfyUaUvA-dwL",
        "colab_type": "text"
      },
      "source": [
        "### 5.1.4. ネストしたリストの内包表記"
      ]
    },
    {
      "cell_type": "code",
      "metadata": {
        "id": "5yt3Xs2u-iP2",
        "colab_type": "code",
        "colab": {}
      },
      "source": [
        "matrix = [\n",
        "     [1, 2, 3, 4],\n",
        "     [5, 6, 7, 8],\n",
        "     [9, 10, 11, 12],\n",
        " ]"
      ],
      "execution_count": 0,
      "outputs": []
    },
    {
      "cell_type": "code",
      "metadata": {
        "id": "wOKZC8-d-2g5",
        "colab_type": "code",
        "colab": {
          "base_uri": "https://localhost:8080/",
          "height": 34
        },
        "outputId": "0aebf310-2f7e-4624-9059-678bf926e32d"
      },
      "source": [
        "# リストの行と列を入れ替える（行列の転置）\n",
        "[[row[i] for row in matrix] for i in range(4)]"
      ],
      "execution_count": 18,
      "outputs": [
        {
          "output_type": "execute_result",
          "data": {
            "text/plain": [
              "[[1, 5, 9], [2, 6, 10], [3, 7, 11], [4, 8, 12]]"
            ]
          },
          "metadata": {
            "tags": []
          },
          "execution_count": 18
        }
      ]
    },
    {
      "cell_type": "markdown",
      "metadata": {
        "id": "z9v9gNxT_oFH",
        "colab_type": "text"
      },
      "source": [
        "下記のコードも同様の結果になる"
      ]
    },
    {
      "cell_type": "code",
      "metadata": {
        "id": "XA3CVCVJ_sta",
        "colab_type": "code",
        "colab": {
          "base_uri": "https://localhost:8080/",
          "height": 34
        },
        "outputId": "a7925e8d-7ec6-4fd2-c4e5-f61ef400d4e7"
      },
      "source": [
        "transposed = []\n",
        "\n",
        "for i in range(4):\n",
        "  transposed.append([row[i] for row in matrix])\n",
        "\n",
        "print(transposed)"
      ],
      "execution_count": 19,
      "outputs": [
        {
          "output_type": "stream",
          "text": [
            "[[1, 5, 9], [2, 6, 10], [3, 7, 11], [4, 8, 12]]\n"
          ],
          "name": "stdout"
        }
      ]
    },
    {
      "cell_type": "markdown",
      "metadata": {
        "id": "ltZalYTTAcGb",
        "colab_type": "text"
      },
      "source": [
        "下記も同じ"
      ]
    },
    {
      "cell_type": "code",
      "metadata": {
        "id": "IAaFHSxqAbYU",
        "colab_type": "code",
        "colab": {
          "base_uri": "https://localhost:8080/",
          "height": 34
        },
        "outputId": "8ba2a016-c1f5-44f2-e570-bf3e408517ed"
      },
      "source": [
        "matrix = [\n",
        "     [1, 2, 3, 4],\n",
        "     [5, 6, 7, 8],\n",
        "     [9, 10, 11, 12],\n",
        " ]\n",
        "\n",
        "transposed = []\n",
        "for i in range(4):\n",
        "  transposed_row = []\n",
        "  for row in matrix:\n",
        "    transposed_row.append(row[i])\n",
        "  transposed.append(transposed_row)\n",
        "\n",
        "print(transposed)"
      ],
      "execution_count": 26,
      "outputs": [
        {
          "output_type": "stream",
          "text": [
            "[[1, 5, 9], [2, 6, 10], [3, 7, 11], [4, 8, 12]]\n"
          ],
          "name": "stdout"
        }
      ]
    },
    {
      "cell_type": "code",
      "metadata": {
        "id": "c-W8bnmdBrey",
        "colab_type": "code",
        "colab": {
          "base_uri": "https://localhost:8080/",
          "height": 34
        },
        "outputId": "dd35f796-0d28-4732-a162-c3e87a105688"
      },
      "source": [
        "matrix = [\n",
        "     [1, 2, 3, 4],\n",
        "     [5, 6, 7, 8],\n",
        "     [9, 10, 11, 12],\n",
        " ]\n",
        "\n",
        "list(zip(*matrix))"
      ],
      "execution_count": 27,
      "outputs": [
        {
          "output_type": "execute_result",
          "data": {
            "text/plain": [
              "[(1, 5, 9), (2, 6, 10), (3, 7, 11), (4, 8, 12)]"
            ]
          },
          "metadata": {
            "tags": []
          },
          "execution_count": 27
        }
      ]
    },
    {
      "cell_type": "markdown",
      "metadata": {
        "id": "mnU0s3tCB38O",
        "colab_type": "text"
      },
      "source": [
        "### 5.2 del文\n",
        "リストから要素を削除する際、値を指定するlist.remove(value)の代わりにインデックスを指定する方法"
      ]
    },
    {
      "cell_type": "code",
      "metadata": {
        "id": "6Y_uz3WpB-uB",
        "colab_type": "code",
        "colab": {
          "base_uri": "https://localhost:8080/",
          "height": 34
        },
        "outputId": "8a35b42d-04c6-45a0-a9c8-95e61030a04d"
      },
      "source": [
        "a = [-1, 1, 66.25, 333, 333, 1234.5]\n",
        "del a[0]\n",
        "print(a)"
      ],
      "execution_count": 28,
      "outputs": [
        {
          "output_type": "stream",
          "text": [
            "[1, 66.25, 333, 333, 1234.5]\n"
          ],
          "name": "stdout"
        }
      ]
    },
    {
      "cell_type": "code",
      "metadata": {
        "id": "oLf9rOosDfQG",
        "colab_type": "code",
        "colab": {
          "base_uri": "https://localhost:8080/",
          "height": 34
        },
        "outputId": "bc2d394d-35d6-4c58-98a5-dd4313e9b972"
      },
      "source": [
        "del a[2:4]\n",
        "print(a)"
      ],
      "execution_count": 29,
      "outputs": [
        {
          "output_type": "stream",
          "text": [
            "[1, 66.25, 1234.5]\n"
          ],
          "name": "stdout"
        }
      ]
    },
    {
      "cell_type": "code",
      "metadata": {
        "id": "KzRkkNDYDm4e",
        "colab_type": "code",
        "colab": {
          "base_uri": "https://localhost:8080/",
          "height": 34
        },
        "outputId": "26f15bc6-2d57-4908-e42d-d8bc98f4c999"
      },
      "source": [
        "del a[:]\n",
        "print(a)"
      ],
      "execution_count": 30,
      "outputs": [
        {
          "output_type": "stream",
          "text": [
            "[]\n"
          ],
          "name": "stdout"
        }
      ]
    },
    {
      "cell_type": "markdown",
      "metadata": {
        "id": "8pqivsp0D_A-",
        "colab_type": "text"
      },
      "source": [
        "## 5.3. タプルとシーケンス"
      ]
    },
    {
      "cell_type": "code",
      "metadata": {
        "id": "DX4fAewVEAIC",
        "colab_type": "code",
        "colab": {
          "base_uri": "https://localhost:8080/",
          "height": 34
        },
        "outputId": "72308455-6a6a-4776-b713-0f6b32e788d7"
      },
      "source": [
        "t = 12345, 54321, 'hello!'\n",
        "t[0]"
      ],
      "execution_count": 32,
      "outputs": [
        {
          "output_type": "execute_result",
          "data": {
            "text/plain": [
              "12345"
            ]
          },
          "metadata": {
            "tags": []
          },
          "execution_count": 32
        }
      ]
    },
    {
      "cell_type": "code",
      "metadata": {
        "id": "hbkZdZpVMCTg",
        "colab_type": "code",
        "colab": {
          "base_uri": "https://localhost:8080/",
          "height": 34
        },
        "outputId": "bd3e3a5a-abf7-4992-efc0-f5ca67e8a982"
      },
      "source": [
        "t"
      ],
      "execution_count": 33,
      "outputs": [
        {
          "output_type": "execute_result",
          "data": {
            "text/plain": [
              "(12345, 54321, 'hello!')"
            ]
          },
          "metadata": {
            "tags": []
          },
          "execution_count": 33
        }
      ]
    },
    {
      "cell_type": "code",
      "metadata": {
        "id": "O9MrQ0bcMF8B",
        "colab_type": "code",
        "colab": {}
      },
      "source": [
        "u = t, (1, 2, 3, 4, 5)\n",
        "u\n",
        "((12345, 54321, 'hello!'), (1, 2, 3, 4, 5))"
      ],
      "execution_count": 0,
      "outputs": []
    }
  ]
}