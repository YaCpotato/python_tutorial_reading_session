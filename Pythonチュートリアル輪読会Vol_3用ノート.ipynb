{
  "nbformat": 4,
  "nbformat_minor": 0,
  "metadata": {
    "colab": {
      "name": "Pythonチュートリアル輪読会Vol.3用ノート.ipynb",
      "provenance": [],
      "collapsed_sections": [],
      "authorship_tag": "ABX9TyPOBKCpuFO8TCHAC5wBfScO",
      "include_colab_link": true
    },
    "kernelspec": {
      "name": "python3",
      "display_name": "Python 3"
    }
  },
  "cells": [
    {
      "cell_type": "markdown",
      "metadata": {
        "id": "view-in-github",
        "colab_type": "text"
      },
      "source": [
        "<a href=\"https://colab.research.google.com/github/YaCpotato/python_tutorial_reading_session/blob/master/Python%E3%83%81%E3%83%A5%E3%83%BC%E3%83%88%E3%83%AA%E3%82%A2%E3%83%AB%E8%BC%AA%E8%AA%AD%E4%BC%9AVol_3%E7%94%A8%E3%83%8E%E3%83%BC%E3%83%88.ipynb\" target=\"_parent\"><img src=\"https://colab.research.google.com/assets/colab-badge.svg\" alt=\"Open In Colab\"/></a>"
      ]
    },
    {
      "cell_type": "markdown",
      "metadata": {
        "id": "7Op7iSQJjII2",
        "colab_type": "text"
      },
      "source": [
        "## データ構造"
      ]
    },
    {
      "cell_type": "markdown",
      "metadata": {
        "id": "tSEWR6Btjca_",
        "colab_type": "text"
      },
      "source": [
        "### 5.1 リスト型について"
      ]
    },
    {
      "cell_type": "markdown",
      "metadata": {
        "id": "26wrq9YBjjH3",
        "colab_type": "text"
      },
      "source": [
        "#### **list.append(x)**\n",
        "リストの末尾に要素を一つ追加します。\n",
        "```python\n",
        "a[len(a):] = [x] \n",
        "```\n",
        "と等価"
      ]
    },
    {
      "cell_type": "code",
      "metadata": {
        "id": "9UYk_bfuihSd",
        "colab_type": "code",
        "outputId": "032e2e47-cab6-496b-9ceb-ba01b8067d33",
        "colab": {
          "base_uri": "https://localhost:8080/",
          "height": 34
        }
      },
      "source": [
        "a = [1, 2, 3]\n",
        "a.append(4)\n",
        "print(a)"
      ],
      "execution_count": 0,
      "outputs": [
        {
          "output_type": "stream",
          "text": [
            "[1, 2, 3, 4]\n"
          ],
          "name": "stdout"
        }
      ]
    },
    {
      "cell_type": "code",
      "metadata": {
        "id": "jXY-Mt_EkBJg",
        "colab_type": "code",
        "outputId": "90a60772-e7d7-438e-9694-0bfc3b8ab857",
        "colab": {
          "base_uri": "https://localhost:8080/",
          "height": 34
        }
      },
      "source": [
        "# リストaの長さの位置（len(a)）　”から先は”　= で指定した配列ですよって式↓\n",
        "# 配列の結合（pandasのconcatみたいなやつ）なので、[5]と書いているところを単に５と書くとエラーになる\n",
        "\n",
        "a[len(a):] = [5]\n",
        "print(a)"
      ],
      "execution_count": 0,
      "outputs": [
        {
          "output_type": "stream",
          "text": [
            "[1, 2, 3, 4, 5]\n"
          ],
          "name": "stdout"
        }
      ]
    },
    {
      "cell_type": "markdown",
      "metadata": {
        "id": "_HDu-fZ3mXBN",
        "colab_type": "text"
      },
      "source": [
        "#### **list.extend(iterable)**\n",
        "イテラブルのすべての要素を対象のリストに追加し、リストを拡張します。 \n",
        "```python\n",
        "a[len(a):] = iterable\n",
        "```\n",
        "と等価"
      ]
    },
    {
      "cell_type": "code",
      "metadata": {
        "id": "RJ4pzEjOkL3W",
        "colab_type": "code",
        "outputId": "694819ad-0e8c-4025-ffa9-02fefe4500eb",
        "colab": {
          "base_uri": "https://localhost:8080/",
          "height": 34
        }
      },
      "source": [
        "b = [1, 2, 3]\n",
        "b.extend(range(0, 10))\n",
        "print(b)"
      ],
      "execution_count": 0,
      "outputs": [
        {
          "output_type": "stream",
          "text": [
            "[1, 2, 3, 0, 1, 2, 3, 4, 5, 6, 7, 8, 9]\n"
          ],
          "name": "stdout"
        }
      ]
    },
    {
      "cell_type": "code",
      "metadata": {
        "id": "r7iUAP3KnZvf",
        "colab_type": "code",
        "outputId": "b56ed517-c542-4052-a172-c9275d35ab87",
        "colab": {
          "base_uri": "https://localhost:8080/",
          "height": 34
        }
      },
      "source": [
        "b[len(b):] = range(1, 11, 2)\n",
        "print(b)"
      ],
      "execution_count": 0,
      "outputs": [
        {
          "output_type": "stream",
          "text": [
            "[1, 2, 3, 0, 1, 2, 3, 4, 5, 6, 7, 8, 9, 1, 3, 5, 7, 9]\n"
          ],
          "name": "stdout"
        }
      ]
    },
    {
      "cell_type": "markdown",
      "metadata": {
        "id": "rJJlwgoSosOq",
        "colab_type": "text"
      },
      "source": [
        "#### **list.insert(i, x)**\n",
        "指定した位置に要素を挿入します。第 1 引数は、リストのインデクスで、そのインデクスを持つ要素の直前に挿入が行われます。\n",
        "```python\n",
        "a.insert(0, x) # リストaの先頭（インデックス０）に挿入\n",
        "\n",
        "a.insert(len(a), x) #下と等価\n",
        "a.append(x)\n",
        "```"
      ]
    },
    {
      "cell_type": "code",
      "metadata": {
        "id": "SqIPiMh9pbpK",
        "colab_type": "code",
        "outputId": "f85a17c0-e47c-4eb8-a433-5eaa354c339c",
        "colab": {
          "base_uri": "https://localhost:8080/",
          "height": 34
        }
      },
      "source": [
        "c = [1, 2, 3]\n",
        "c.insert(1, 0)\n",
        "print(c)"
      ],
      "execution_count": 0,
      "outputs": [
        {
          "output_type": "stream",
          "text": [
            "[1, 0, 2, 3]\n"
          ],
          "name": "stdout"
        }
      ]
    },
    {
      "cell_type": "code",
      "metadata": {
        "id": "CglW5J8Gp8BN",
        "colab_type": "code",
        "outputId": "34d70ff9-3112-4968-f598-9a998960733c",
        "colab": {
          "base_uri": "https://localhost:8080/",
          "height": 51
        }
      },
      "source": [
        "copy_c = c.copy()\n",
        "copy_c.insert(len(copy_c),1)\n",
        "c.append(1)\n",
        "print(\"c is {list}\".format(list = c))\n",
        "print(\"copy_c is {list}\".format(list = copy_c))"
      ],
      "execution_count": 0,
      "outputs": [
        {
          "output_type": "stream",
          "text": [
            "c is [1, 0, 2, 3, 1]\n",
            "copy_c is [1, 0, 2, 3, 1]\n"
          ],
          "name": "stdout"
        }
      ]
    },
    {
      "cell_type": "markdown",
      "metadata": {
        "id": "V82wOqArrU4I",
        "colab_type": "text"
      },
      "source": [
        "#### **list.remove(x)**\n",
        "リスト中で、**値 x を持つ最初の要素を削除**します。該当する項目がなければエラー\n",
        "**0から検索して、削除するのは一回だけ。全てではないので要注意**"
      ]
    },
    {
      "cell_type": "code",
      "metadata": {
        "id": "dUprhOSordvu",
        "colab_type": "code",
        "outputId": "7a9fa424-ef70-4cf5-822a-06478e51aa84",
        "colab": {
          "base_uri": "https://localhost:8080/",
          "height": 34
        }
      },
      "source": [
        "d = [1, 0, 2, 3, 0] # インデックス１の０が削除される\n",
        "d.remove(0)\n",
        "print(d)"
      ],
      "execution_count": 0,
      "outputs": [
        {
          "output_type": "stream",
          "text": [
            "[1, 2, 3, 0]\n"
          ],
          "name": "stdout"
        }
      ]
    },
    {
      "cell_type": "markdown",
      "metadata": {
        "id": "xSQm1YwBsRsb",
        "colab_type": "text"
      },
      "source": [
        "#### **list.pop([i])**\n",
        "リスト中の指定された位置にある要素をリストから削除して、その要素を返します。インデクスが指定されなければ、 a.pop() はリストの末尾の要素を削除して返します。この場合も要素は削除される　　\n",
        "\n",
        "引数の[ ] 　は、オプション引数の表記。なくてもいい"
      ]
    },
    {
      "cell_type": "code",
      "metadata": {
        "id": "GJhwLY-asPJe",
        "colab_type": "code",
        "outputId": "e5c52cd7-a38c-4cdf-f0df-ea49d2791362",
        "colab": {
          "base_uri": "https://localhost:8080/",
          "height": 51
        }
      },
      "source": [
        "e = [1,0,2,3]\n",
        "print(\"e.pop(1) の戻り値は {pop}.\".format(pop = e.pop(1))) # インデックス１にある要素を抜き出す\n",
        "print(\"現在の変数eは {e}\".format(e = e))"
      ],
      "execution_count": 0,
      "outputs": [
        {
          "output_type": "stream",
          "text": [
            "e.pop(1) の戻り値は 0.\n",
            "現在の変数eは [1, 2, 3]\n"
          ],
          "name": "stdout"
        }
      ]
    },
    {
      "cell_type": "markdown",
      "metadata": {
        "id": "4QXEfZlUty8O",
        "colab_type": "text"
      },
      "source": [
        "#### **list.clear()**\n",
        "リスト中の全ての要素を削除する。\n",
        "```python\n",
        "del a[:]\n",
        "```\n",
        "と等価"
      ]
    },
    {
      "cell_type": "code",
      "metadata": {
        "id": "m5jSuzt5uCxT",
        "colab_type": "code",
        "outputId": "1f7da9aa-0317-4800-d6d5-5b6ed69cb75e",
        "colab": {
          "base_uri": "https://localhost:8080/",
          "height": 51
        }
      },
      "source": [
        "f = [1,2,3]\n",
        "g = [4,5,6]\n",
        "f.clear()\n",
        "print(\"f is {list}\".format(list = f))\n",
        "g.clear()\n",
        "print(\"g is {list}\".format(list = g))"
      ],
      "execution_count": 0,
      "outputs": [
        {
          "output_type": "stream",
          "text": [
            "f is []\n",
            "g is []\n"
          ],
          "name": "stdout"
        }
      ]
    },
    {
      "cell_type": "markdown",
      "metadata": {
        "id": "ZLuzFA7pvMxy",
        "colab_type": "text"
      },
      "source": [
        "#### **list.index(x[, start[, end]])**\n",
        "リスト中で、値 x を持つ最初の要素の位置をゼロから始まる添字で返します。 該当する要素がなければ、ValueError を送出します。\n",
        "\n",
        "任意の引数である start と end はスライス記法として解釈され、リストの探索範囲を指定できます。返される添字は、start 引数からの相対位置ではなく、リスト全体の先頭からの位置になります。\n",
        "\n",
        "**配列みたいな表記はオプション引数の表記だから！**"
      ]
    },
    {
      "cell_type": "code",
      "metadata": {
        "id": "VR38nzKovaqx",
        "colab_type": "code",
        "outputId": "8ea1fe9f-8814-4524-a3b3-e6715a526028",
        "colab": {
          "base_uri": "https://localhost:8080/",
          "height": 34
        }
      },
      "source": [
        "h = [0,0,0,1,1,1,0,0]\n",
        "print(h.index(1))"
      ],
      "execution_count": 0,
      "outputs": [
        {
          "output_type": "stream",
          "text": [
            "3\n"
          ],
          "name": "stdout"
        }
      ]
    },
    {
      "cell_type": "code",
      "metadata": {
        "id": "tl7zJLvyv5FC",
        "colab_type": "code",
        "outputId": "c330c92b-7120-43ab-ad0f-cdabc63ef9dc",
        "colab": {
          "base_uri": "https://localhost:8080/",
          "height": 34
        }
      },
      "source": [
        "i = [0, 0, 0, 0, 0, 0, 0, 0, 0, 0, 0, 0, 0, 0, 0, 0, 0, 0, 0, 1, 0, 0, 0, 0, 0, 0, 0, 0, 0, 0, 0, 0, 0, 0, 0, 0, 0, 0, 0, 0, 0, 0, 0, 0, 0, 0, 0, 0, 0, 0, 0, 0, 0, 0, 0,0, 0, 0, 0, 0, 0, 0, 0, 0, 0, 0, 0, 0, 0, 0, 0, 0, 0, 0, 0, 0, 0, 0, 0, 0, 0, 0, 0, 0, 0, 0, 0, 0, 0, 0, 0,0, 0, 0, 0, 0, 0, 0, 0, 0, 0, 0, 0, 0, 0, 0, 0, 0, 0, 0, 0, 0, 0, 0, 0, 0, 0, 0, 0, 0, 0, 0, 0, 0, 0, 0, 0,0, 0, 0, 0, 0, 0, 0, 0, 0, 0, 0, 0, 0]\n",
        "print(len(i))"
      ],
      "execution_count": 0,
      "outputs": [
        {
          "output_type": "stream",
          "text": [
            "140\n"
          ],
          "name": "stdout"
        }
      ]
    },
    {
      "cell_type": "code",
      "metadata": {
        "id": "LTFzmUFawqHN",
        "colab_type": "code",
        "outputId": "cf8c03fc-3dbb-4faf-b726-b6953504e0a6",
        "colab": {
          "base_uri": "https://localhost:8080/",
          "height": 34
        }
      },
      "source": [
        "# 鷹の目スキルを使って、インデックス15あたりに１ない？ってのがわかったので\n",
        "# 誤差プラマイ５を考慮して探索してみよう\n",
        "\n",
        "# インデックス１０から２０の間にありそうな１を探索する\n",
        "print(i.index(1, 10, 20))"
      ],
      "execution_count": 0,
      "outputs": [
        {
          "output_type": "stream",
          "text": [
            "19\n"
          ],
          "name": "stdout"
        }
      ]
    },
    {
      "cell_type": "markdown",
      "metadata": {
        "id": "IH9VI7q9ySwl",
        "colab_type": "text"
      },
      "source": [
        "#### **list.count(x)**\n",
        "リストでの x の出現回数を返す。"
      ]
    },
    {
      "cell_type": "code",
      "metadata": {
        "id": "FbE6HmmiztFX",
        "colab_type": "code",
        "outputId": "e646868b-efc6-4098-d59f-11ef23da7386",
        "colab": {
          "base_uri": "https://localhost:8080/",
          "height": 34
        }
      },
      "source": [
        "k = [0, 0, 0, 0, 1, 1, 1, 1, 2, 2]\n",
        "print(k.count(1))"
      ],
      "execution_count": 0,
      "outputs": [
        {
          "output_type": "stream",
          "text": [
            "4\n"
          ],
          "name": "stdout"
        }
      ]
    },
    {
      "cell_type": "markdown",
      "metadata": {
        "id": "O8hbJNa2z56G",
        "colab_type": "text"
      },
      "source": [
        "#### **list.sort(key=None, reverse=False)**\n",
        "\n",
        "リストの項目を、インプレース演算 (in place、元のデータを演算結果で置き換えるやりかた) でソートします。引数はソート方法のカスタマイズに使えます。 \n",
        "\n",
        "sorted() はイテラブルも可能\n",
        "\n",
        "**=Noneとかはデフォルト引数の表記ね。つまり引数なしでも呼べるの**\n",
        "\n",
        "https://docs.python.org/ja/3/howto/sorting.html"
      ]
    },
    {
      "cell_type": "code",
      "metadata": {
        "id": "EV0BGOb80Ws1",
        "colab_type": "code",
        "outputId": "6efaacf8-99ad-49a1-83c1-4368ea2591ee",
        "colab": {
          "base_uri": "https://localhost:8080/",
          "height": 34
        }
      },
      "source": [
        "l = [1, 3, 2, 6, 5, 4]\n",
        "l.sort()\n",
        "print(l)"
      ],
      "execution_count": 0,
      "outputs": [
        {
          "output_type": "stream",
          "text": [
            "[1, 2, 3, 4, 5, 6]\n"
          ],
          "name": "stdout"
        }
      ]
    },
    {
      "cell_type": "code",
      "metadata": {
        "id": "cEaFUvbT0vrF",
        "colab_type": "code",
        "outputId": "9e64efb8-3943-4757-f64b-e114a885dab4",
        "colab": {
          "base_uri": "https://localhost:8080/",
          "height": 34
        }
      },
      "source": [
        "m = [1, 5, 3, 4, 6, 2]\n",
        "m.sort(reverse=True)\n",
        "print(m)"
      ],
      "execution_count": 0,
      "outputs": [
        {
          "output_type": "stream",
          "text": [
            "[6, 5, 4, 3, 2, 1]\n"
          ],
          "name": "stdout"
        }
      ]
    },
    {
      "cell_type": "code",
      "metadata": {
        "id": "su2axC2D5xVm",
        "colab_type": "code",
        "outputId": "3c4e8faa-353a-44b8-d2e5-1befcbc28599",
        "colab": {
          "base_uri": "https://localhost:8080/",
          "height": 51
        }
      },
      "source": [
        "n = range(10,0,-1)\n",
        "print(list(n))\n",
        "print(sorted(n))"
      ],
      "execution_count": 0,
      "outputs": [
        {
          "output_type": "stream",
          "text": [
            "[10, 9, 8, 7, 6, 5, 4, 3, 2, 1]\n",
            "[1, 2, 3, 4, 5, 6, 7, 8, 9, 10]\n"
          ],
          "name": "stdout"
        }
      ]
    },
    {
      "cell_type": "markdown",
      "metadata": {
        "id": "02ev0rKV5Ioo",
        "colab_type": "text"
      },
      "source": [
        "キーとして扱えるものが存在するタプルや辞書には引数keyで対応できる"
      ]
    },
    {
      "cell_type": "code",
      "metadata": {
        "id": "IsyiFUQN1G2s",
        "colab_type": "code",
        "outputId": "dfa62541-5173-4821-dba2-0d2ca61eccc1",
        "colab": {
          "base_uri": "https://localhost:8080/",
          "height": 34
        }
      },
      "source": [
        "o = [\n",
        "     (3, \"Joseph Gilgun\"),\n",
        "     (4, \"Samy Naceri\"),\n",
        "     (1, \"Sylvester Stallone\"),\n",
        "     (2, \"Jason Statham\")\n",
        "    ]\n",
        "\n",
        "o.sort(key=lambda x: x[0]) # タプル要素０の数字ソート\n",
        "print(n)"
      ],
      "execution_count": 0,
      "outputs": [
        {
          "output_type": "stream",
          "text": [
            "[(1, 'Sylvester Stallone'), (2, 'Jason Statham'), (3, 'Joseph Gilgun'), (4, 'Samy Naceri')]\n"
          ],
          "name": "stdout"
        }
      ]
    },
    {
      "cell_type": "markdown",
      "metadata": {
        "id": "jEE_gCUN7AGb",
        "colab_type": "text"
      },
      "source": [
        "#### **list.reverse()**\n",
        "リストの要素を、インプレース演算で逆順にします。"
      ]
    },
    {
      "cell_type": "code",
      "metadata": {
        "id": "PWc3gonn7JtD",
        "colab_type": "code",
        "outputId": "7644e7df-561b-4ce0-dfbf-ac521447ab6b",
        "colab": {
          "base_uri": "https://localhost:8080/",
          "height": 34
        }
      },
      "source": [
        "p = [1, 1, 0, 0, 2, 2]\n",
        "p.reverse()\n",
        "print(p)"
      ],
      "execution_count": 0,
      "outputs": [
        {
          "output_type": "stream",
          "text": [
            "[2, 2, 0, 0, 1, 1]\n"
          ],
          "name": "stdout"
        }
      ]
    },
    {
      "cell_type": "markdown",
      "metadata": {
        "id": "kZnBT2hh7kYJ",
        "colab_type": "text"
      },
      "source": [
        "#### **list.copy()**\n",
        "リストの浅い (shallow) コピーを返します。a[:] と等価です。"
      ]
    },
    {
      "cell_type": "code",
      "metadata": {
        "id": "r7YzQ9RY7pcT",
        "colab_type": "code",
        "outputId": "91bcb230-7da7-498c-f8de-de281408bbfb",
        "colab": {
          "base_uri": "https://localhost:8080/",
          "height": 68
        }
      },
      "source": [
        "q = [1, 2, 3, 4]\n",
        "r = q.copy()\n",
        "s = q[:]\n",
        "print(q)\n",
        "print(r)\n",
        "print(s)"
      ],
      "execution_count": 0,
      "outputs": [
        {
          "output_type": "stream",
          "text": [
            "[1, 2, 3, 4]\n",
            "[1, 2, 3, 4]\n",
            "[1, 2, 3, 4]\n"
          ],
          "name": "stdout"
        }
      ]
    },
    {
      "cell_type": "markdown",
      "metadata": {
        "id": "lg_SPdgWeBCb",
        "colab_type": "text"
      },
      "source": [
        "### 5.1.1 リストをスタックとして使う\n",
        "スタックってなに：挿入、削除がリストの先頭からしかできないLIFO（Last In First Out）のデータ構造"
      ]
    },
    {
      "cell_type": "code",
      "metadata": {
        "id": "EXWvhCoNeDco",
        "colab_type": "code",
        "outputId": "a9825c0c-ee6c-422e-b6a3-a605a560d021",
        "colab": {
          "base_uri": "https://localhost:8080/",
          "height": 34
        }
      },
      "source": [
        "stack = [3, 4, 5]\n",
        "stack.append(6)\n",
        "stack.append(7)\n",
        "print(stack)"
      ],
      "execution_count": 0,
      "outputs": [
        {
          "output_type": "stream",
          "text": [
            "[3, 4, 5, 6, 7]\n"
          ],
          "name": "stdout"
        }
      ]
    },
    {
      "cell_type": "code",
      "metadata": {
        "id": "daboo6lAen2l",
        "colab_type": "code",
        "outputId": "94e33668-5e80-45d0-8bab-97516c9bb511",
        "colab": {
          "base_uri": "https://localhost:8080/",
          "height": 34
        }
      },
      "source": [
        "stack.pop()"
      ],
      "execution_count": 0,
      "outputs": [
        {
          "output_type": "execute_result",
          "data": {
            "text/plain": [
              "7"
            ]
          },
          "metadata": {
            "tags": []
          },
          "execution_count": 2
        }
      ]
    },
    {
      "cell_type": "code",
      "metadata": {
        "id": "wCqtg1WXeoPN",
        "colab_type": "code",
        "outputId": "48384b32-16bf-46eb-a15f-ac89760fb0ef",
        "colab": {
          "base_uri": "https://localhost:8080/",
          "height": 34
        }
      },
      "source": [
        "print(stack)"
      ],
      "execution_count": 0,
      "outputs": [
        {
          "output_type": "stream",
          "text": [
            "[3, 4, 5, 6]\n"
          ],
          "name": "stdout"
        }
      ]
    },
    {
      "cell_type": "code",
      "metadata": {
        "id": "mY0nccq1ewkR",
        "colab_type": "code",
        "outputId": "4d792825-7770-4f39-9618-cde9bf119f84",
        "colab": {
          "base_uri": "https://localhost:8080/",
          "height": 34
        }
      },
      "source": [
        "stack.pop()"
      ],
      "execution_count": 0,
      "outputs": [
        {
          "output_type": "execute_result",
          "data": {
            "text/plain": [
              "6"
            ]
          },
          "metadata": {
            "tags": []
          },
          "execution_count": 4
        }
      ]
    },
    {
      "cell_type": "code",
      "metadata": {
        "id": "fRhCY4kMexL5",
        "colab_type": "code",
        "outputId": "8e96800e-c64c-4ce0-fa4f-10fead640d5b",
        "colab": {
          "base_uri": "https://localhost:8080/",
          "height": 34
        }
      },
      "source": [
        "stack.pop()"
      ],
      "execution_count": 0,
      "outputs": [
        {
          "output_type": "execute_result",
          "data": {
            "text/plain": [
              "5"
            ]
          },
          "metadata": {
            "tags": []
          },
          "execution_count": 5
        }
      ]
    },
    {
      "cell_type": "markdown",
      "metadata": {
        "id": "O9PcB0Hme0aE",
        "colab_type": "text"
      },
      "source": [
        "### 5.1.2 リストをキューとして使う\n",
        "キューってなに：先に入れた要素から順に取り出すという規則で出し入れを行うFIFO(First In First Out)データ構造"
      ]
    },
    {
      "cell_type": "code",
      "metadata": {
        "id": "USENc4pcfPHQ",
        "colab_type": "code",
        "outputId": "19574656-a1ff-4df4-84e8-a22b8cb1ab70",
        "colab": {
          "base_uri": "https://localhost:8080/",
          "height": 34
        }
      },
      "source": [
        "from collections import deque\n",
        "queue = deque([\"Eric\", \"John\", \"Michael\"])\n",
        "queue.append(\"Terry\")           # Terry arrives\n",
        "queue.append(\"Graham\")          # Graham arrives\n",
        "queue.popleft()                 # The first to arrive now leaves"
      ],
      "execution_count": 0,
      "outputs": [
        {
          "output_type": "execute_result",
          "data": {
            "text/plain": [
              "'Eric'"
            ]
          },
          "metadata": {
            "tags": []
          },
          "execution_count": 6
        }
      ]
    },
    {
      "cell_type": "code",
      "metadata": {
        "id": "3R1MK3uSfmzA",
        "colab_type": "code",
        "outputId": "930eaa23-7d56-4dab-dc30-8d8021db7919",
        "colab": {
          "base_uri": "https://localhost:8080/",
          "height": 34
        }
      },
      "source": [
        "queue.popleft()                 # The second to arrive now leaves"
      ],
      "execution_count": 0,
      "outputs": [
        {
          "output_type": "execute_result",
          "data": {
            "text/plain": [
              "'John'"
            ]
          },
          "metadata": {
            "tags": []
          },
          "execution_count": 7
        }
      ]
    },
    {
      "cell_type": "code",
      "metadata": {
        "id": "WL7dzcUcfnM5",
        "colab_type": "code",
        "outputId": "67ead71f-76a4-40f8-adb4-d232d51dcf3f",
        "colab": {
          "base_uri": "https://localhost:8080/",
          "height": 34
        }
      },
      "source": [
        "queue"
      ],
      "execution_count": 0,
      "outputs": [
        {
          "output_type": "execute_result",
          "data": {
            "text/plain": [
              "deque(['Michael', 'Terry', 'Graham'])"
            ]
          },
          "metadata": {
            "tags": []
          },
          "execution_count": 8
        }
      ]
    },
    {
      "cell_type": "markdown",
      "metadata": {
        "id": "JfX14Hnif70M",
        "colab_type": "text"
      },
      "source": [
        "### 5.1.3 リストの内包表記"
      ]
    },
    {
      "cell_type": "code",
      "metadata": {
        "id": "WeKNCUiXgIO1",
        "colab_type": "code",
        "outputId": "ad6c8b58-2e9f-459c-fd3a-370b81a9dd98",
        "colab": {
          "base_uri": "https://localhost:8080/",
          "height": 34
        }
      },
      "source": [
        "squares = []\n",
        "for x in range(10):\n",
        "  squares.append(x**2)\n",
        "\n",
        "squares"
      ],
      "execution_count": 0,
      "outputs": [
        {
          "output_type": "execute_result",
          "data": {
            "text/plain": [
              "[0, 1, 4, 9, 16, 25, 36, 49, 64, 81]"
            ]
          },
          "metadata": {
            "tags": []
          },
          "execution_count": 9
        }
      ]
    },
    {
      "cell_type": "code",
      "metadata": {
        "id": "ia13VCSegTdS",
        "colab_type": "code",
        "outputId": "10413d42-fac7-4c1f-a51a-3d36ed2068a4",
        "colab": {
          "base_uri": "https://localhost:8080/",
          "height": 34
        }
      },
      "source": [
        "squares = list(map(lambda x: x**2, range(10)))\n",
        "print(squares)"
      ],
      "execution_count": 0,
      "outputs": [
        {
          "output_type": "stream",
          "text": [
            "[0, 1, 4, 9, 16, 25, 36, 49, 64, 81]\n"
          ],
          "name": "stdout"
        }
      ]
    },
    {
      "cell_type": "code",
      "metadata": {
        "id": "zeZE67tYgZTA",
        "colab_type": "code",
        "colab": {}
      },
      "source": [
        "squares = [x**2 for x in range(10)]\n",
        "print(squares)"
      ],
      "execution_count": 0,
      "outputs": []
    },
    {
      "cell_type": "code",
      "metadata": {
        "id": "GrI3vWW6ghTB",
        "colab_type": "code",
        "outputId": "df376e82-e507-4aee-81bb-38f454c88a5c",
        "colab": {
          "base_uri": "https://localhost:8080/",
          "height": 34
        }
      },
      "source": [
        "[(x, y) for x in [1, 2, 3] for y in [3, 1, 4] if x != y]"
      ],
      "execution_count": 0,
      "outputs": [
        {
          "output_type": "execute_result",
          "data": {
            "text/plain": [
              "[(1, 3), (1, 4), (2, 3), (2, 1), (2, 4), (3, 1), (3, 4)]"
            ]
          },
          "metadata": {
            "tags": []
          },
          "execution_count": 15
        }
      ]
    },
    {
      "cell_type": "markdown",
      "metadata": {
        "id": "03LnAaaNgkfu",
        "colab_type": "text"
      },
      "source": [
        "1. x = 1でy = 3,1,4とループが回るが、y = 1 = xとなるのでそこは出力されない(この時点で(1, 3),(1, 4)が出力されている)\n",
        "2.3も同様に、x = yでないときを除き、yとのタプルが生成される。\n",
        "\n",
        "わかりやすくすると以下のようなコードになる"
      ]
    },
    {
      "cell_type": "code",
      "metadata": {
        "id": "IAyNz1I6ghp8",
        "colab_type": "code",
        "outputId": "18a1c28a-7a5f-445e-f179-686fe02de1cd",
        "colab": {
          "base_uri": "https://localhost:8080/",
          "height": 34
        }
      },
      "source": [
        "combs = []\n",
        "for x in [1, 2, 3]:\n",
        "  for y in [3, 1, 4]:\n",
        "    if x != y:\n",
        "      combs.append((x, y))\n",
        "\n",
        "combs"
      ],
      "execution_count": 0,
      "outputs": [
        {
          "output_type": "execute_result",
          "data": {
            "text/plain": [
              "[(1, 3), (1, 4), (2, 3), (2, 1), (2, 4), (3, 1), (3, 4)]"
            ]
          },
          "metadata": {
            "tags": []
          },
          "execution_count": 16
        }
      ]
    },
    {
      "cell_type": "code",
      "metadata": {
        "id": "qzO6-XyThmVk",
        "colab_type": "code",
        "outputId": "509dcd4c-89af-468d-f30d-c985e8991bf2",
        "colab": {
          "base_uri": "https://localhost:8080/",
          "height": 34
        }
      },
      "source": [
        "vec = [-4, -2, 0, 2, 4]\n",
        "\n",
        "# ２倍の値のリストを作る\n",
        "[x*2 for x in vec]"
      ],
      "execution_count": 0,
      "outputs": [
        {
          "output_type": "execute_result",
          "data": {
            "text/plain": [
              "[-8, -4, 0, 4, 8]"
            ]
          },
          "metadata": {
            "tags": []
          },
          "execution_count": 1
        }
      ]
    },
    {
      "cell_type": "code",
      "metadata": {
        "id": "S9pwmYPo3vtm",
        "colab_type": "code",
        "outputId": "5102165a-a921-4f51-8b71-1aae65dbb8e0",
        "colab": {
          "base_uri": "https://localhost:8080/",
          "height": 34
        }
      },
      "source": [
        "# リストからマイナスの値を除く\n",
        "[x for x in vec if x >= 0]"
      ],
      "execution_count": 0,
      "outputs": [
        {
          "output_type": "execute_result",
          "data": {
            "text/plain": [
              "[0, 2, 4]"
            ]
          },
          "metadata": {
            "tags": []
          },
          "execution_count": 2
        }
      ]
    },
    {
      "cell_type": "code",
      "metadata": {
        "id": "9uYxPp524P4M",
        "colab_type": "code",
        "outputId": "d4f8ae44-dbcb-46e3-dc42-a277ea8a777d",
        "colab": {
          "base_uri": "https://localhost:8080/",
          "height": 34
        }
      },
      "source": [
        "# リスト内全ての値に関数を適用する\n",
        "[abs(x) for x in vec]"
      ],
      "execution_count": 0,
      "outputs": [
        {
          "output_type": "execute_result",
          "data": {
            "text/plain": [
              "[4, 2, 0, 2, 4]"
            ]
          },
          "metadata": {
            "tags": []
          },
          "execution_count": 3
        }
      ]
    },
    {
      "cell_type": "markdown",
      "metadata": {
        "id": "SyA0LVA24fBd",
        "colab_type": "text"
      },
      "source": [
        "＝＝＝＝＝＝＝＝＝＝＝＝＝＝＝＝＝＝＝＝＝"
      ]
    },
    {
      "cell_type": "code",
      "metadata": {
        "id": "q2xHjmRp4g0J",
        "colab_type": "code",
        "outputId": "2528e4e7-0365-4059-bd58-3399a32ab7e4",
        "colab": {
          "base_uri": "https://localhost:8080/",
          "height": 34
        }
      },
      "source": [
        "freshfruit = ['  banana', '  loganberry ', 'passion fruit  ']\n",
        "\n",
        "# 半角スペースをリストの各要素から除く\n",
        "[weapon.strip() for weapon in freshfruit]"
      ],
      "execution_count": 0,
      "outputs": [
        {
          "output_type": "execute_result",
          "data": {
            "text/plain": [
              "['banana', 'loganberry', 'passion fruit']"
            ]
          },
          "metadata": {
            "tags": []
          },
          "execution_count": 4
        }
      ]
    },
    {
      "cell_type": "code",
      "metadata": {
        "id": "Wi9IwwQY48xZ",
        "colab_type": "code",
        "outputId": "8ec674bb-0442-4378-f142-91f7dc67be35",
        "colab": {
          "base_uri": "https://localhost:8080/",
          "height": 34
        }
      },
      "source": [
        "# 数値とその二条の値からなるタプルのリストを作る\n",
        "[(x, x**2) for x in range(6)]"
      ],
      "execution_count": 0,
      "outputs": [
        {
          "output_type": "execute_result",
          "data": {
            "text/plain": [
              "[(0, 0), (1, 1), (2, 4), (3, 9), (4, 16), (5, 25)]"
            ]
          },
          "metadata": {
            "tags": []
          },
          "execution_count": 5
        }
      ]
    },
    {
      "cell_type": "code",
      "metadata": {
        "id": "FGpTm0Hz6N4T",
        "colab_type": "code",
        "colab": {}
      },
      "source": [
        "# list comprehensionを使って二次元リストを平滑化する\n",
        "vec = [[1, 2, 3], [4, 5, 6], [7, 8, 9]]\n",
        "[num for elem in vec for num in elem]"
      ],
      "execution_count": 0,
      "outputs": []
    },
    {
      "cell_type": "markdown",
      "metadata": {
        "id": "eqUsgXkW7jCh",
        "colab_type": "text"
      },
      "source": [
        "#### リスト内包表記\n",
        "リストの中身を二倍にしたリストを作りたい場合\n"
      ]
    },
    {
      "cell_type": "markdown",
      "metadata": {
        "id": "7yAGtD078OJJ",
        "colab_type": "text"
      },
      "source": [
        "**リスト内包表記を使わない場合**"
      ]
    },
    {
      "cell_type": "code",
      "metadata": {
        "id": "eRIv3M468LjZ",
        "colab_type": "code",
        "outputId": "86c2eddb-3de5-480c-d987-a21594689bf0",
        "colab": {
          "base_uri": "https://localhost:8080/",
          "height": 34
        }
      },
      "source": [
        "ｔ = [1, 2, 3]\n",
        "\n",
        "def doubler(lst):\n",
        "    doubled = []\n",
        "    for num in lst:\n",
        "        doubled.append(num*2)\n",
        "    return doubled\n",
        "\n",
        "double_ｔ = doubler(ｔ)\n",
        "print(double_ｔ)"
      ],
      "execution_count": 0,
      "outputs": [
        {
          "output_type": "stream",
          "text": [
            "[2, 4, 6]\n"
          ],
          "name": "stdout"
        }
      ]
    },
    {
      "cell_type": "markdown",
      "metadata": {
        "id": "XPSzl_Kt89dH",
        "colab_type": "text"
      },
      "source": [
        "**リスト内包表記を使う場合**"
      ]
    },
    {
      "cell_type": "code",
      "metadata": {
        "id": "Jnx4MFgp8_tU",
        "colab_type": "code",
        "outputId": "01d0e312-2820-40d9-a8ce-3e1bb40a1a0a",
        "colab": {
          "base_uri": "https://localhost:8080/",
          "height": 34
        }
      },
      "source": [
        "u = [1, 2, 3]\n",
        "\n",
        "def doubler(lst):\n",
        "    doubled = [num*2 for num in lst]\n",
        "    return doubled\n",
        "\n",
        "double_u = doubler(u)\n",
        "print(double_u)"
      ],
      "execution_count": 0,
      "outputs": [
        {
          "output_type": "stream",
          "text": [
            "[2, 4, 6]\n"
          ],
          "name": "stdout"
        }
      ]
    },
    {
      "cell_type": "code",
      "metadata": {
        "id": "LAO63YdW-VJp",
        "colab_type": "code",
        "outputId": "4d4db0bc-d271-4f9b-f145-cf8a514d1da5",
        "colab": {
          "base_uri": "https://localhost:8080/",
          "height": 34
        }
      },
      "source": [
        "from math import pi\n",
        "[str(round(pi, i)) for i in range(1, 6)]"
      ],
      "execution_count": 0,
      "outputs": [
        {
          "output_type": "execute_result",
          "data": {
            "text/plain": [
              "['3.1', '3.14', '3.142', '3.1416', '3.14159']"
            ]
          },
          "metadata": {
            "tags": []
          },
          "execution_count": 15
        }
      ]
    },
    {
      "cell_type": "markdown",
      "metadata": {
        "id": "UfyUaUvA-dwL",
        "colab_type": "text"
      },
      "source": [
        "### 5.1.4. ネストしたリストの内包表記"
      ]
    },
    {
      "cell_type": "code",
      "metadata": {
        "id": "5yt3Xs2u-iP2",
        "colab_type": "code",
        "colab": {}
      },
      "source": [
        "matrix = [\n",
        "     [1, 2, 3, 4],\n",
        "     [5, 6, 7, 8],\n",
        "     [9, 10, 11, 12],\n",
        " ]"
      ],
      "execution_count": 0,
      "outputs": []
    },
    {
      "cell_type": "code",
      "metadata": {
        "id": "wOKZC8-d-2g5",
        "colab_type": "code",
        "outputId": "0aebf310-2f7e-4624-9059-678bf926e32d",
        "colab": {
          "base_uri": "https://localhost:8080/",
          "height": 34
        }
      },
      "source": [
        "# リストの行と列を入れ替える（行列の転置）\n",
        "[[row[i] for row in matrix] for i in range(4)]"
      ],
      "execution_count": 0,
      "outputs": [
        {
          "output_type": "execute_result",
          "data": {
            "text/plain": [
              "[[1, 5, 9], [2, 6, 10], [3, 7, 11], [4, 8, 12]]"
            ]
          },
          "metadata": {
            "tags": []
          },
          "execution_count": 18
        }
      ]
    },
    {
      "cell_type": "markdown",
      "metadata": {
        "id": "z9v9gNxT_oFH",
        "colab_type": "text"
      },
      "source": [
        "下記のコードも同様の結果になる"
      ]
    },
    {
      "cell_type": "code",
      "metadata": {
        "id": "XA3CVCVJ_sta",
        "colab_type": "code",
        "outputId": "a7925e8d-7ec6-4fd2-c4e5-f61ef400d4e7",
        "colab": {
          "base_uri": "https://localhost:8080/",
          "height": 34
        }
      },
      "source": [
        "transposed = []\n",
        "\n",
        "for i in range(4):\n",
        "  transposed.append([row[i] for row in matrix])\n",
        "\n",
        "print(transposed)"
      ],
      "execution_count": 0,
      "outputs": [
        {
          "output_type": "stream",
          "text": [
            "[[1, 5, 9], [2, 6, 10], [3, 7, 11], [4, 8, 12]]\n"
          ],
          "name": "stdout"
        }
      ]
    },
    {
      "cell_type": "markdown",
      "metadata": {
        "id": "ltZalYTTAcGb",
        "colab_type": "text"
      },
      "source": [
        "下記も同じ"
      ]
    },
    {
      "cell_type": "code",
      "metadata": {
        "id": "IAaFHSxqAbYU",
        "colab_type": "code",
        "outputId": "8ba2a016-c1f5-44f2-e570-bf3e408517ed",
        "colab": {
          "base_uri": "https://localhost:8080/",
          "height": 34
        }
      },
      "source": [
        "matrix = [\n",
        "     [1, 2, 3, 4],\n",
        "     [5, 6, 7, 8],\n",
        "     [9, 10, 11, 12],\n",
        " ]\n",
        "\n",
        "transposed = []\n",
        "for i in range(4):\n",
        "  transposed_row = []\n",
        "  for row in matrix:\n",
        "    transposed_row.append(row[i])\n",
        "  transposed.append(transposed_row)\n",
        "\n",
        "print(transposed)"
      ],
      "execution_count": 0,
      "outputs": [
        {
          "output_type": "stream",
          "text": [
            "[[1, 5, 9], [2, 6, 10], [3, 7, 11], [4, 8, 12]]\n"
          ],
          "name": "stdout"
        }
      ]
    },
    {
      "cell_type": "code",
      "metadata": {
        "id": "c-W8bnmdBrey",
        "colab_type": "code",
        "outputId": "dd35f796-0d28-4732-a162-c3e87a105688",
        "colab": {
          "base_uri": "https://localhost:8080/",
          "height": 34
        }
      },
      "source": [
        "matrix = [\n",
        "     [1, 2, 3, 4],\n",
        "     [5, 6, 7, 8],\n",
        "     [9, 10, 11, 12],\n",
        " ]\n",
        "\n",
        "list(zip(*matrix))"
      ],
      "execution_count": 0,
      "outputs": [
        {
          "output_type": "execute_result",
          "data": {
            "text/plain": [
              "[(1, 5, 9), (2, 6, 10), (3, 7, 11), (4, 8, 12)]"
            ]
          },
          "metadata": {
            "tags": []
          },
          "execution_count": 27
        }
      ]
    },
    {
      "cell_type": "markdown",
      "metadata": {
        "id": "mnU0s3tCB38O",
        "colab_type": "text"
      },
      "source": [
        "### 5.2 del文\n",
        "リストから要素を削除する際、値を指定するlist.remove(value)の代わりにインデックスを指定する方法"
      ]
    },
    {
      "cell_type": "code",
      "metadata": {
        "id": "6Y_uz3WpB-uB",
        "colab_type": "code",
        "outputId": "8a35b42d-04c6-45a0-a9c8-95e61030a04d",
        "colab": {
          "base_uri": "https://localhost:8080/",
          "height": 34
        }
      },
      "source": [
        "a = [-1, 1, 66.25, 333, 333, 1234.5]\n",
        "del a[0]\n",
        "print(a)"
      ],
      "execution_count": 0,
      "outputs": [
        {
          "output_type": "stream",
          "text": [
            "[1, 66.25, 333, 333, 1234.5]\n"
          ],
          "name": "stdout"
        }
      ]
    },
    {
      "cell_type": "code",
      "metadata": {
        "id": "oLf9rOosDfQG",
        "colab_type": "code",
        "outputId": "bc2d394d-35d6-4c58-98a5-dd4313e9b972",
        "colab": {
          "base_uri": "https://localhost:8080/",
          "height": 34
        }
      },
      "source": [
        "del a[2:4]\n",
        "print(a)"
      ],
      "execution_count": 0,
      "outputs": [
        {
          "output_type": "stream",
          "text": [
            "[1, 66.25, 1234.5]\n"
          ],
          "name": "stdout"
        }
      ]
    },
    {
      "cell_type": "code",
      "metadata": {
        "id": "KzRkkNDYDm4e",
        "colab_type": "code",
        "outputId": "26f15bc6-2d57-4908-e42d-d8bc98f4c999",
        "colab": {
          "base_uri": "https://localhost:8080/",
          "height": 34
        }
      },
      "source": [
        "del a[:]\n",
        "print(a)"
      ],
      "execution_count": 0,
      "outputs": [
        {
          "output_type": "stream",
          "text": [
            "[]\n"
          ],
          "name": "stdout"
        }
      ]
    },
    {
      "cell_type": "markdown",
      "metadata": {
        "id": "8pqivsp0D_A-",
        "colab_type": "text"
      },
      "source": [
        "## 5.3. タプルとシーケンス"
      ]
    },
    {
      "cell_type": "code",
      "metadata": {
        "id": "DX4fAewVEAIC",
        "colab_type": "code",
        "outputId": "72308455-6a6a-4776-b713-0f6b32e788d7",
        "colab": {
          "base_uri": "https://localhost:8080/",
          "height": 34
        }
      },
      "source": [
        "t = 12345, 54321, 'hello!'\n",
        "t[0]"
      ],
      "execution_count": 0,
      "outputs": [
        {
          "output_type": "execute_result",
          "data": {
            "text/plain": [
              "12345"
            ]
          },
          "metadata": {
            "tags": []
          },
          "execution_count": 32
        }
      ]
    },
    {
      "cell_type": "code",
      "metadata": {
        "id": "hbkZdZpVMCTg",
        "colab_type": "code",
        "outputId": "bd3e3a5a-abf7-4992-efc0-f5ca67e8a982",
        "colab": {
          "base_uri": "https://localhost:8080/",
          "height": 34
        }
      },
      "source": [
        "t"
      ],
      "execution_count": 0,
      "outputs": [
        {
          "output_type": "execute_result",
          "data": {
            "text/plain": [
              "(12345, 54321, 'hello!')"
            ]
          },
          "metadata": {
            "tags": []
          },
          "execution_count": 33
        }
      ]
    },
    {
      "cell_type": "code",
      "metadata": {
        "id": "O9MrQ0bcMF8B",
        "colab_type": "code",
        "colab": {}
      },
      "source": [
        "u = t, (1, 2, 3, 4, 5)\n",
        "u\n",
        "((12345, 54321, 'hello!'), (1, 2, 3, 4, 5))"
      ],
      "execution_count": 0,
      "outputs": []
    },
    {
      "cell_type": "code",
      "metadata": {
        "id": "RgqisYNi62Fu",
        "colab_type": "code",
        "colab": {}
      },
      "source": [
        "empty = ()\n",
        "singleton = 'hello',    # <-- note trailing comma"
      ],
      "execution_count": 0,
      "outputs": []
    },
    {
      "cell_type": "code",
      "metadata": {
        "id": "dZ8lns4969LV",
        "colab_type": "code",
        "outputId": "d6b93a7d-488b-44d8-ac76-4e2340ff2dfe",
        "colab": {
          "base_uri": "https://localhost:8080/",
          "height": 34
        }
      },
      "source": [
        "len(empty)"
      ],
      "execution_count": 0,
      "outputs": [
        {
          "output_type": "execute_result",
          "data": {
            "text/plain": [
              "0"
            ]
          },
          "metadata": {
            "tags": []
          },
          "execution_count": 2
        }
      ]
    },
    {
      "cell_type": "code",
      "metadata": {
        "id": "Xb4ybXRp7B9v",
        "colab_type": "code",
        "outputId": "47b3eaa3-326b-409c-d65e-63010df607de",
        "colab": {
          "base_uri": "https://localhost:8080/",
          "height": 34
        }
      },
      "source": [
        "len(singleton)"
      ],
      "execution_count": 0,
      "outputs": [
        {
          "output_type": "execute_result",
          "data": {
            "text/plain": [
              "1"
            ]
          },
          "metadata": {
            "tags": []
          },
          "execution_count": 3
        }
      ]
    },
    {
      "cell_type": "code",
      "metadata": {
        "id": "1HwOpvj57Gl6",
        "colab_type": "code",
        "outputId": "44d7ccb0-d2c8-4548-a4ce-d733b69950b8",
        "colab": {
          "base_uri": "https://localhost:8080/",
          "height": 34
        }
      },
      "source": [
        "singleton"
      ],
      "execution_count": 0,
      "outputs": [
        {
          "output_type": "execute_result",
          "data": {
            "text/plain": [
              "('hello',)"
            ]
          },
          "metadata": {
            "tags": []
          },
          "execution_count": 4
        }
      ]
    },
    {
      "cell_type": "code",
      "metadata": {
        "id": "xqs8N6t-7MMi",
        "colab_type": "code",
        "colab": {}
      },
      "source": [
        "t = 12345, 54321, 'hello!'"
      ],
      "execution_count": 0,
      "outputs": []
    },
    {
      "cell_type": "code",
      "metadata": {
        "id": "zRk1mi-S7NBC",
        "colab_type": "code",
        "outputId": "9b65fd61-67b0-45b5-e3ae-6340a8fdc36d",
        "colab": {
          "base_uri": "https://localhost:8080/",
          "height": 34
        }
      },
      "source": [
        "t"
      ],
      "execution_count": 0,
      "outputs": [
        {
          "output_type": "execute_result",
          "data": {
            "text/plain": [
              "(12345, 54321, 'hello!')"
            ]
          },
          "metadata": {
            "tags": []
          },
          "execution_count": 6
        }
      ]
    },
    {
      "cell_type": "code",
      "metadata": {
        "id": "BzxJpR0p7OlR",
        "colab_type": "code",
        "outputId": "a32fd9cb-0ac4-4ce6-8772-0cb7f7801e19",
        "colab": {
          "base_uri": "https://localhost:8080/",
          "height": 68
        }
      },
      "source": [
        "x, y, z = t\n",
        "print(x)\n",
        "print(y)\n",
        "print(z)"
      ],
      "execution_count": 0,
      "outputs": [
        {
          "output_type": "stream",
          "text": [
            "12345\n",
            "54321\n",
            "hello!\n"
          ],
          "name": "stdout"
        }
      ]
    },
    {
      "cell_type": "markdown",
      "metadata": {
        "id": "SNjY3IUL7iDm",
        "colab_type": "text"
      },
      "source": [
        "### 集合型"
      ]
    },
    {
      "cell_type": "code",
      "metadata": {
        "id": "1Vc_OZe07k3R",
        "colab_type": "code",
        "outputId": "bf5ccd1f-d216-4c86-9820-8482bbbd0f04",
        "colab": {
          "base_uri": "https://localhost:8080/",
          "height": 34
        }
      },
      "source": [
        "basket = {'apple', 'orange', 'apple', 'pear', 'orange', 'banana'}\n",
        "print(basket)                      #　重複は削除される"
      ],
      "execution_count": 0,
      "outputs": [
        {
          "output_type": "stream",
          "text": [
            "{'orange', 'pear', 'apple', 'banana'}\n"
          ],
          "name": "stdout"
        }
      ]
    },
    {
      "cell_type": "code",
      "metadata": {
        "id": "MNfrJnY77mS6",
        "colab_type": "code",
        "outputId": "3a1eb868-4096-40e6-a46b-4a37e77d7254",
        "colab": {
          "base_uri": "https://localhost:8080/",
          "height": 34
        }
      },
      "source": [
        "'orange' in basket"
      ],
      "execution_count": 0,
      "outputs": [
        {
          "output_type": "execute_result",
          "data": {
            "text/plain": [
              "True"
            ]
          },
          "metadata": {
            "tags": []
          },
          "execution_count": 10
        }
      ]
    },
    {
      "cell_type": "code",
      "metadata": {
        "id": "_mJHDr8v7xmB",
        "colab_type": "code",
        "outputId": "5e88a676-8061-4552-beb8-f927c4e4ed64",
        "colab": {
          "base_uri": "https://localhost:8080/",
          "height": 34
        }
      },
      "source": [
        "'crabgrass' in basket"
      ],
      "execution_count": 0,
      "outputs": [
        {
          "output_type": "execute_result",
          "data": {
            "text/plain": [
              "False"
            ]
          },
          "metadata": {
            "tags": []
          },
          "execution_count": 11
        }
      ]
    },
    {
      "cell_type": "code",
      "metadata": {
        "id": "lJSUuGno70kV",
        "colab_type": "code",
        "outputId": "afea22b7-ffd6-4c2a-bb07-f08763e9a63c",
        "colab": {
          "base_uri": "https://localhost:8080/",
          "height": 102
        }
      },
      "source": [
        "# 2つの集合に対して集合操作の例\n",
        "\n",
        "a = set('abracadabra')\n",
        "b = set('alacazam')\n",
        "\n",
        "#　aに含まれている文字\n",
        "print(a)\n",
        "\n",
        "#　aに含まれていて、bに含まれていない文字\n",
        "print(a - b)\n",
        "\n",
        "#　aとbどちらかに含まれている文字\n",
        "print(a | b)\n",
        "\n",
        "#　aとbどちらにも含まれている文字\n",
        "print(a & b)\n",
        "\n",
        "#　aとbどちらかに含まれているが、両方には含まれていることはない文字\n",
        "print(a ^ b)"
      ],
      "execution_count": 0,
      "outputs": [
        {
          "output_type": "stream",
          "text": [
            "{'c', 'a', 'd', 'b', 'r'}\n",
            "{'b', 'r', 'd'}\n",
            "{'c', 'a', 'm', 'd', 'z', 'b', 'r', 'l'}\n",
            "{'a', 'c'}\n",
            "{'z', 'b', 'r', 'l', 'm', 'd'}\n"
          ],
          "name": "stdout"
        }
      ]
    },
    {
      "cell_type": "code",
      "metadata": {
        "id": "5ErvquGj9-y6",
        "colab_type": "code",
        "outputId": "d0b97849-4c40-40ec-d119-643ad3dc0ced",
        "colab": {
          "base_uri": "https://localhost:8080/",
          "height": 34
        }
      },
      "source": [
        "a = {x for x in 'abracadabra' if x not in 'abc'}\n",
        "print(a)"
      ],
      "execution_count": 0,
      "outputs": [
        {
          "output_type": "stream",
          "text": [
            "{'r', 'd'}\n"
          ],
          "name": "stdout"
        }
      ]
    },
    {
      "cell_type": "markdown",
      "metadata": {
        "id": "PzBFcVvi-Fhl",
        "colab_type": "text"
      },
      "source": [
        "### 辞書型"
      ]
    },
    {
      "cell_type": "code",
      "metadata": {
        "id": "8exhUOxv-Hfg",
        "colab_type": "code",
        "outputId": "347f7437-1d27-4583-b587-75a136efb251",
        "colab": {
          "base_uri": "https://localhost:8080/",
          "height": 34
        }
      },
      "source": [
        "tel = {'jack': 4098, 'sape': 4139}\n",
        "tel['guido'] = 4127\n",
        "print(tel)"
      ],
      "execution_count": 0,
      "outputs": [
        {
          "output_type": "stream",
          "text": [
            "{'jack': 4098, 'sape': 4139, 'guido': 4127}\n"
          ],
          "name": "stdout"
        }
      ]
    },
    {
      "cell_type": "code",
      "metadata": {
        "id": "NoMq7BU1-6k4",
        "colab_type": "code",
        "outputId": "bf1d7e2d-ce55-4bbd-bdc5-487bdf17f17d",
        "colab": {
          "base_uri": "https://localhost:8080/",
          "height": 34
        }
      },
      "source": [
        "tel['jack']"
      ],
      "execution_count": 0,
      "outputs": [
        {
          "output_type": "execute_result",
          "data": {
            "text/plain": [
              "4098"
            ]
          },
          "metadata": {
            "tags": []
          },
          "execution_count": 16
        }
      ]
    },
    {
      "cell_type": "code",
      "metadata": {
        "id": "pxwJ0ZVU-9qn",
        "colab_type": "code",
        "outputId": "394b9b4d-fac3-43f2-c875-e4bd64f70c11",
        "colab": {
          "base_uri": "https://localhost:8080/",
          "height": 34
        }
      },
      "source": [
        "del tel['sape']\n",
        "tel['irv'] = 4127\n",
        "print(tel)"
      ],
      "execution_count": 0,
      "outputs": [
        {
          "output_type": "stream",
          "text": [
            "{'jack': 4098, 'guido': 4127, 'irv': 4127}\n"
          ],
          "name": "stdout"
        }
      ]
    },
    {
      "cell_type": "code",
      "metadata": {
        "id": "mceyTNDs_G2s",
        "colab_type": "code",
        "outputId": "ae57473c-0706-4f66-9f20-c29e868133c3",
        "colab": {
          "base_uri": "https://localhost:8080/",
          "height": 34
        }
      },
      "source": [
        "list(tel.keys())"
      ],
      "execution_count": 0,
      "outputs": [
        {
          "output_type": "execute_result",
          "data": {
            "text/plain": [
              "['jack', 'guido', 'irv']"
            ]
          },
          "metadata": {
            "tags": []
          },
          "execution_count": 18
        }
      ]
    },
    {
      "cell_type": "code",
      "metadata": {
        "id": "MxxsUXSQ_Lyj",
        "colab_type": "code",
        "outputId": "8400c286-dece-43f8-e7d9-7e37277e8db5",
        "colab": {
          "base_uri": "https://localhost:8080/",
          "height": 34
        }
      },
      "source": [
        "sorted(tel.keys())"
      ],
      "execution_count": 0,
      "outputs": [
        {
          "output_type": "execute_result",
          "data": {
            "text/plain": [
              "['guido', 'irv', 'jack']"
            ]
          },
          "metadata": {
            "tags": []
          },
          "execution_count": 19
        }
      ]
    },
    {
      "cell_type": "code",
      "metadata": {
        "id": "-2suncOw_PSV",
        "colab_type": "code",
        "outputId": "59faeb54-60a0-4cdf-c9ec-58ac3ae0b424",
        "colab": {
          "base_uri": "https://localhost:8080/",
          "height": 34
        }
      },
      "source": [
        "'guido' in tel"
      ],
      "execution_count": 0,
      "outputs": [
        {
          "output_type": "execute_result",
          "data": {
            "text/plain": [
              "True"
            ]
          },
          "metadata": {
            "tags": []
          },
          "execution_count": 20
        }
      ]
    },
    {
      "cell_type": "code",
      "metadata": {
        "id": "pOnyA5gJ_R8E",
        "colab_type": "code",
        "outputId": "73ddbc37-10d7-4336-a594-c77aef50679e",
        "colab": {
          "base_uri": "https://localhost:8080/",
          "height": 34
        }
      },
      "source": [
        "'jack' not in tel"
      ],
      "execution_count": 0,
      "outputs": [
        {
          "output_type": "execute_result",
          "data": {
            "text/plain": [
              "False"
            ]
          },
          "metadata": {
            "tags": []
          },
          "execution_count": 21
        }
      ]
    },
    {
      "cell_type": "code",
      "metadata": {
        "id": "i0YadB5S_TcY",
        "colab_type": "code",
        "outputId": "0921b9e2-7df3-45c6-e215-ff937b7a6ae7",
        "colab": {
          "base_uri": "https://localhost:8080/",
          "height": 34
        }
      },
      "source": [
        "# 辞書にも内包表記が使える\n",
        "{x: x**2 for x in (2, 4, 6)}"
      ],
      "execution_count": 0,
      "outputs": [
        {
          "output_type": "execute_result",
          "data": {
            "text/plain": [
              "{2: 4, 4: 16, 6: 36}"
            ]
          },
          "metadata": {
            "tags": []
          },
          "execution_count": 22
        }
      ]
    },
    {
      "cell_type": "markdown",
      "metadata": {
        "id": "DmKZJO9EALW6",
        "colab_type": "text"
      },
      "source": [
        "### 5.6. ループのテクニック"
      ]
    },
    {
      "cell_type": "markdown",
      "metadata": {
        "id": "_cjBmHTiArc8",
        "colab_type": "text"
      },
      "source": [
        "辞書に対してループを行う際、 items() メソッドを使うと、キーとそれに対応する値を同時に取り出せます。\n"
      ]
    },
    {
      "cell_type": "code",
      "metadata": {
        "id": "RqPYeQkBAOyo",
        "colab_type": "code",
        "outputId": "6863f4d4-df33-414c-c7f1-e100ebc38cc5",
        "colab": {
          "base_uri": "https://localhost:8080/",
          "height": 51
        }
      },
      "source": [
        "knights = {'gallahad': 'the pure', 'robin': 'the brave'}\n",
        "for k, v in knights.items():\n",
        "  print(k, v)"
      ],
      "execution_count": 0,
      "outputs": [
        {
          "output_type": "stream",
          "text": [
            "gallahad the pure\n",
            "robin the brave\n"
          ],
          "name": "stdout"
        }
      ]
    },
    {
      "cell_type": "markdown",
      "metadata": {
        "id": "9QFt-j9-A5n0",
        "colab_type": "text"
      },
      "source": [
        "シーケンスにわたるループを行う際、 enumerate() 関数を使うと、要素のインデックスと要素を同時に取り出すことができます。"
      ]
    },
    {
      "cell_type": "code",
      "metadata": {
        "id": "Uo32kJSJAsMj",
        "colab_type": "code",
        "outputId": "c27b5aec-810a-4798-c573-f10bed618d1e",
        "colab": {
          "base_uri": "https://localhost:8080/",
          "height": 68
        }
      },
      "source": [
        "for i, v in enumerate(['tic', 'tac', 'toe']):\n",
        "  print(i, v)"
      ],
      "execution_count": 0,
      "outputs": [
        {
          "output_type": "stream",
          "text": [
            "0 tic\n",
            "1 tac\n",
            "2 toe\n"
          ],
          "name": "stdout"
        }
      ]
    },
    {
      "cell_type": "markdown",
      "metadata": {
        "id": "BD8Y6gd-BE-1",
        "colab_type": "text"
      },
      "source": [
        "二つまたはそれ以上のシーケンス型を同時にループするために、関数 zip() を使って各要素をひと組みにすることができます。"
      ]
    },
    {
      "cell_type": "code",
      "metadata": {
        "id": "gTvDsrslBFUI",
        "colab_type": "code",
        "outputId": "3da43e2c-52be-4571-9b75-cf31dcc7232a",
        "colab": {
          "base_uri": "https://localhost:8080/",
          "height": 68
        }
      },
      "source": [
        "questions = ['name', 'quest', 'favorite color']\n",
        "answers = ['lancelot', 'the holy grail', 'blue']\n",
        "for q, a in zip(questions, answers):\n",
        "  print('What is your {0}?  It is {1}.'.format(q, a))"
      ],
      "execution_count": 0,
      "outputs": [
        {
          "output_type": "stream",
          "text": [
            "What is your name?  It is lancelot.\n",
            "What is your quest?  It is the holy grail.\n",
            "What is your favorite color?  It is blue.\n"
          ],
          "name": "stdout"
        }
      ]
    },
    {
      "cell_type": "markdown",
      "metadata": {
        "id": "2Zhp98PrBQp7",
        "colab_type": "text"
      },
      "source": [
        "シーケンスを逆方向に渡ってループするには、まずシーケンスの範囲を順方向に指定し、次いで関数 reversed() を呼び出します。"
      ]
    },
    {
      "cell_type": "code",
      "metadata": {
        "id": "kV5zYCSGBQ9x",
        "colab_type": "code",
        "outputId": "21382104-13a6-462e-8e50-bce6245459a7",
        "colab": {
          "base_uri": "https://localhost:8080/",
          "height": 102
        }
      },
      "source": [
        "for i in reversed(range(1, 10, 2)):\n",
        "  print(i)"
      ],
      "execution_count": 0,
      "outputs": [
        {
          "output_type": "stream",
          "text": [
            "9\n",
            "7\n",
            "5\n",
            "3\n",
            "1\n"
          ],
          "name": "stdout"
        }
      ]
    },
    {
      "cell_type": "markdown",
      "metadata": {
        "id": "A_B213rtBbCa",
        "colab_type": "text"
      },
      "source": [
        "シーケンスをソートされた順序でループするには、 sorted() 関数を使います。この関数は元の配列を変更せず、ソート済みの新たな配列を返します。"
      ]
    },
    {
      "cell_type": "code",
      "metadata": {
        "id": "bftZNKOeBbYN",
        "colab_type": "code",
        "outputId": "162abded-6df7-44cb-c9ac-e7b86ef13aba",
        "colab": {
          "base_uri": "https://localhost:8080/",
          "height": 85
        }
      },
      "source": [
        "basket = ['apple', 'orange', 'apple', 'pear', 'orange', 'banana']\n",
        "for f in sorted(set(basket)):\n",
        "  print(f)"
      ],
      "execution_count": 0,
      "outputs": [
        {
          "output_type": "stream",
          "text": [
            "apple\n",
            "banana\n",
            "orange\n",
            "pear\n"
          ],
          "name": "stdout"
        }
      ]
    },
    {
      "cell_type": "markdown",
      "metadata": {
        "id": "dkxEeiTVBloo",
        "colab_type": "text"
      },
      "source": [
        "ときどきループ内でリストを変更したい誘惑に駆られるでしょうが、代わりに新しいリストを作ってしまうほうがより簡単で安全なことが、ままあります"
      ]
    },
    {
      "cell_type": "code",
      "metadata": {
        "id": "QRoI2G2CBl4Y",
        "colab_type": "code",
        "colab": {}
      },
      "source": [
        "import math\n",
        "raw_data = [56.2, float('NaN'), 51.7, 55.3, 52.5, float('NaN'), 47.8]\n",
        "filtered_data = []\n",
        "for value in raw_data:\n",
        "  if not math.isnan(value):\n",
        "    filtered_data.append(value)"
      ],
      "execution_count": 0,
      "outputs": []
    },
    {
      "cell_type": "code",
      "metadata": {
        "id": "3gqwRLrXBus9",
        "colab_type": "code",
        "outputId": "1859a14a-d733-4fe6-86ac-55cefa880e94",
        "colab": {
          "base_uri": "https://localhost:8080/",
          "height": 34
        }
      },
      "source": [
        "filtered_data"
      ],
      "execution_count": 0,
      "outputs": [
        {
          "output_type": "execute_result",
          "data": {
            "text/plain": [
              "[56.2, 51.7, 55.3, 52.5, 47.8]"
            ]
          },
          "metadata": {
            "tags": []
          },
          "execution_count": 29
        }
      ]
    },
    {
      "cell_type": "markdown",
      "metadata": {
        "id": "8C9UkG3RCPKe",
        "colab_type": "text"
      },
      "source": [
        "### 条件についてもう少し"
      ]
    },
    {
      "cell_type": "markdown",
      "metadata": {
        "id": "yrPCausYCMjE",
        "colab_type": "text"
      },
      "source": [
        "while や if 文で使った条件 (condition) には、値の比較だけでなく、他の演算子も使うことができます。\n",
        "\n",
        "**比較演算子 in および not in は、ある値があるシーケンス中に存在するか (または存在しないか) どうかを調べます**。**演算子 is および is not は、二つのオブジェクトが実際に同じオブジェクトであるかどうかを調べます**。この比較は、リストのような変更可能なオブジェクトにだけ意味があります。全ての比較演算子は同じ優先順位を持っており、ともに**数値演算子よりも低い優先順位**となります。(訳注: is は、 is None のように、シングルトンの変更不能オブジェクトとの比較に用いる場合もあります。(「変更可能なオブジェクトにだけ意味があります」の部分を削除することを Doc-SIG に提案中。))\n",
        "\n",
        "比較は連結させることができます。例えば、 a < b == c は、 a が b より小さく、かつ b と c が等しいかどうかをテストします。\n",
        "\n",
        "**ブール演算子 and や or** で比較演算を組み合わせることができます。そして、比較演算 (あるいは何らかのブール式) の結果の否定は not でとれます。これらの**演算子は全て、比較演算子よりも低い優先順位**になっています。 A and not B or C と (A and (not B)) or C が等価になるように、**ブール演算子の中で、 not の優先順位が最も高く、 or が最も低くなっています。**もちろん、丸括弧を使えば望みの組み合わせを表現できます。\n",
        "\n",
        "**ブール演算子 and と or は、いわゆる 短絡 (short-circuit) 演算子です**。これらの演算子の引数は左から右へと順に評価され、結果が確定した時点で評価を止めます。例えば、 A と C は真で B が偽のとき、 A and B and C は式 C を評価しません。一般に、短絡演算子の戻り値をブール値ではなくて一般的な値として用いると、値は最後に評価された引数になります。\n",
        "\n",
        "比較や他のブール式の結果を変数に代入することもできます。例えば、"
      ]
    },
    {
      "cell_type": "code",
      "metadata": {
        "id": "ggsXOHR4C2li",
        "colab_type": "code",
        "outputId": "0988eed1-02a9-4660-95c5-1e0231171a51",
        "colab": {
          "base_uri": "https://localhost:8080/",
          "height": 34
        }
      },
      "source": [
        "string1, string2, string3 = '', 'Trondheim', 'Hammer Dance'\n",
        "string1 or string2 or string3"
      ],
      "execution_count": 0,
      "outputs": [
        {
          "output_type": "execute_result",
          "data": {
            "text/plain": [
              "'Trondheim'"
            ]
          },
          "metadata": {
            "tags": []
          },
          "execution_count": 31
        }
      ]
    },
    {
      "cell_type": "markdown",
      "metadata": {
        "id": "1xKLuphODAKU",
        "colab_type": "text"
      },
      "source": [
        "### 5.8. シーケンスとその他の型の比較\n",
        "\n",
        "シーケンスオブジェクトは同じシーケンス型の他のオブジェクトと比較できます。比較には 辞書的な (lexicographical) 順序が用いられます。まず、最初の二つの要素を比較し、その値が等しくなければその時点で比較結果が決まります。等しければ次の二つの要素を比較し、以降シーケンスの要素が尽きるまで続けます。比較しようとする二つの要素がいずれも同じシーケンス型であれば、そのシーケンス間での辞書比較を再帰的に行います。二つのシーケンスの全ての要素の比較結果が等しくなれば、シーケンスは等しいとみなされます。片方のシーケンスがもう一方の先頭部分にあたる部分シーケンスならば、短い方のシーケンスが小さいシーケンスとみなされます。文字列に対する辞書的な順序づけには、個々の文字を並べるのに Unicode コードポイントの数を用います。以下に、同じ型のオブジェクトを持つシーケンス間での比較を行った例を示します:"
      ]
    },
    {
      "cell_type": "code",
      "metadata": {
        "id": "7c0KjRtRDBKL",
        "colab_type": "code",
        "outputId": "15ba7a2a-cb4a-4aab-b143-09a7344010ee",
        "colab": {
          "base_uri": "https://localhost:8080/",
          "height": 34
        }
      },
      "source": [
        "(1, 2, 3) < (1, 2, 4)"
      ],
      "execution_count": 0,
      "outputs": [
        {
          "output_type": "execute_result",
          "data": {
            "text/plain": [
              "True"
            ]
          },
          "metadata": {
            "tags": []
          },
          "execution_count": 33
        }
      ]
    },
    {
      "cell_type": "code",
      "metadata": {
        "id": "hP-4L7W3DOqb",
        "colab_type": "code",
        "outputId": "52176952-50f6-4688-a2bb-b76212fd4183",
        "colab": {
          "base_uri": "https://localhost:8080/",
          "height": 34
        }
      },
      "source": [
        "[1, 2, 3] < [1, 2, 4]"
      ],
      "execution_count": 0,
      "outputs": [
        {
          "output_type": "execute_result",
          "data": {
            "text/plain": [
              "True"
            ]
          },
          "metadata": {
            "tags": []
          },
          "execution_count": 34
        }
      ]
    },
    {
      "cell_type": "code",
      "metadata": {
        "id": "hKnnqfXUDXSv",
        "colab_type": "code",
        "outputId": "bc7f5720-b970-448e-d377-14463a8f5be4",
        "colab": {
          "base_uri": "https://localhost:8080/",
          "height": 34
        }
      },
      "source": [
        "'ABC' < 'C' < 'Pascal' < 'Python'"
      ],
      "execution_count": 0,
      "outputs": [
        {
          "output_type": "execute_result",
          "data": {
            "text/plain": [
              "True"
            ]
          },
          "metadata": {
            "tags": []
          },
          "execution_count": 35
        }
      ]
    },
    {
      "cell_type": "code",
      "metadata": {
        "id": "plRYCWwdDXo_",
        "colab_type": "code",
        "outputId": "2ecabd77-e820-4fb8-ecc6-43cc03b38035",
        "colab": {
          "base_uri": "https://localhost:8080/",
          "height": 34
        }
      },
      "source": [
        "(1, 2, 3, 4) < (1, 2, 4)"
      ],
      "execution_count": 0,
      "outputs": [
        {
          "output_type": "execute_result",
          "data": {
            "text/plain": [
              "True"
            ]
          },
          "metadata": {
            "tags": []
          },
          "execution_count": 36
        }
      ]
    },
    {
      "cell_type": "code",
      "metadata": {
        "id": "pzignBLaDjM5",
        "colab_type": "code",
        "outputId": "b3bca9b0-a1aa-4293-882b-91c7fd40d2f8",
        "colab": {
          "base_uri": "https://localhost:8080/",
          "height": 34
        }
      },
      "source": [
        "(1, 2) < (1, 2, -1)"
      ],
      "execution_count": 0,
      "outputs": [
        {
          "output_type": "execute_result",
          "data": {
            "text/plain": [
              "True"
            ]
          },
          "metadata": {
            "tags": []
          },
          "execution_count": 37
        }
      ]
    },
    {
      "cell_type": "code",
      "metadata": {
        "id": "UimTK5tyDm8z",
        "colab_type": "code",
        "outputId": "e3eb6cf7-84c0-4e7a-e32c-c4951b56d7cb",
        "colab": {
          "base_uri": "https://localhost:8080/",
          "height": 34
        }
      },
      "source": [
        "(1, 2, 3) == (1.0, 2.0, 3.0)"
      ],
      "execution_count": 0,
      "outputs": [
        {
          "output_type": "execute_result",
          "data": {
            "text/plain": [
              "True"
            ]
          },
          "metadata": {
            "tags": []
          },
          "execution_count": 38
        }
      ]
    },
    {
      "cell_type": "code",
      "metadata": {
        "id": "uNFXhSPoDtto",
        "colab_type": "code",
        "outputId": "3a63d244-05b0-44f2-c083-f2af2bda8d95",
        "colab": {
          "base_uri": "https://localhost:8080/",
          "height": 34
        }
      },
      "source": [
        "(1, 2, ('aa', 'ab'))   < (1, 2, ('abc', 'a'), 4)"
      ],
      "execution_count": 0,
      "outputs": [
        {
          "output_type": "execute_result",
          "data": {
            "text/plain": [
              "True"
            ]
          },
          "metadata": {
            "tags": []
          },
          "execution_count": 39
        }
      ]
    },
    {
      "cell_type": "markdown",
      "metadata": {
        "id": "Q2pnzSM3D9IH",
        "colab_type": "text"
      },
      "source": [
        "違う型のオブジェクト同士を < や > で比較することも、それらのオブジェクトが適切な比較メソッドを提供しているのであれば許可されます。例えば、異なる数値型同士の比較では、その数値によって比較が行われます。例えば、 0 と 0.0 は等価です。一方、適切な比較順序がない場合は、インタープリターは TypeError 例外を発生させます。"
      ]
    }
  ]
}